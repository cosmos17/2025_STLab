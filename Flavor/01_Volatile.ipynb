{
 "cells": [
  {
   "cell_type": "markdown",
   "id": "2a4d5a3a",
   "metadata": {},
   "source": [
    "## 향미방"
   ]
  },
  {
   "cell_type": "markdown",
   "id": "1406d1ad",
   "metadata": {},
   "source": [
    "### 1> 데이터 확인"
   ]
  },
  {
   "cell_type": "code",
   "execution_count": 1,
   "id": "ff93db1b",
   "metadata": {},
   "outputs": [],
   "source": [
    "import pandas as pd\n",
    "import numpy as np\n",
    "import scipy.stats as spst\n",
    "\n",
    "import matplotlib.pyplot as plt\n",
    "import seaborn as sns"
   ]
  },
  {
   "cell_type": "code",
   "execution_count": null,
   "id": "1825e69b",
   "metadata": {},
   "outputs": [
    {
     "data": {
      "text/html": [
       "<div>\n",
       "<style scoped>\n",
       "    .dataframe tbody tr th:only-of-type {\n",
       "        vertical-align: middle;\n",
       "    }\n",
       "\n",
       "    .dataframe tbody tr th {\n",
       "        vertical-align: top;\n",
       "    }\n",
       "\n",
       "    .dataframe thead th {\n",
       "        text-align: right;\n",
       "    }\n",
       "</style>\n",
       "<table border=\"1\" class=\"dataframe\">\n",
       "  <thead>\n",
       "    <tr style=\"text-align: right;\">\n",
       "      <th>Compounds</th>\n",
       "      <th>Carbon disulfide</th>\n",
       "      <th>Methylsulfanylmethane (Dimethyl sulfide)</th>\n",
       "      <th>2-Methylheptane</th>\n",
       "      <th>Furan</th>\n",
       "      <th>Propan-2-one</th>\n",
       "      <th>4-Methyloctane</th>\n",
       "      <th>(E)-oct-2-ene</th>\n",
       "      <th>2-Methylfuran</th>\n",
       "      <th>Butan-2-one</th>\n",
       "      <th>Nonane</th>\n",
       "      <th>...</th>\n",
       "      <th>Undecan-4-ylbenzene (4-Phenylundecane)</th>\n",
       "      <th>Phenylmethanol</th>\n",
       "      <th>(1-hydroxy-2,4,4-trimethylpentan-3-yl) 2-methylpropanoate</th>\n",
       "      <th>Methylsulfonylmethane (Dimethyl sulfone)</th>\n",
       "      <th>Dodecan-3-ylbenzene (3-Phenyldodecane)</th>\n",
       "      <th>2-Phenylethanol</th>\n",
       "      <th>2-Phenylacetonitrile</th>\n",
       "      <th>1,4-Butanediol</th>\n",
       "      <th>Benzeneacetonitrile</th>\n",
       "      <th>Nonadecane</th>\n",
       "    </tr>\n",
       "  </thead>\n",
       "  <tbody>\n",
       "    <tr>\n",
       "      <th>0_1</th>\n",
       "      <td>0.130670</td>\n",
       "      <td>0.0</td>\n",
       "      <td>0.000000</td>\n",
       "      <td>0.0</td>\n",
       "      <td>1.435842</td>\n",
       "      <td>0.517948</td>\n",
       "      <td>0.0</td>\n",
       "      <td>0.0</td>\n",
       "      <td>0.175037</td>\n",
       "      <td>0.0</td>\n",
       "      <td>...</td>\n",
       "      <td>0.0</td>\n",
       "      <td>0.0</td>\n",
       "      <td>0.0</td>\n",
       "      <td>0.324772</td>\n",
       "      <td>0.0</td>\n",
       "      <td>0.000000</td>\n",
       "      <td>0.03144</td>\n",
       "      <td>0.0</td>\n",
       "      <td>0.0</td>\n",
       "      <td>0.0</td>\n",
       "    </tr>\n",
       "    <tr>\n",
       "      <th>0_2</th>\n",
       "      <td>0.167196</td>\n",
       "      <td>0.0</td>\n",
       "      <td>0.027512</td>\n",
       "      <td>0.0</td>\n",
       "      <td>0.952583</td>\n",
       "      <td>0.000000</td>\n",
       "      <td>0.0</td>\n",
       "      <td>0.0</td>\n",
       "      <td>0.332735</td>\n",
       "      <td>0.0</td>\n",
       "      <td>...</td>\n",
       "      <td>0.0</td>\n",
       "      <td>0.0</td>\n",
       "      <td>0.0</td>\n",
       "      <td>0.004501</td>\n",
       "      <td>0.0</td>\n",
       "      <td>0.005626</td>\n",
       "      <td>0.00000</td>\n",
       "      <td>0.0</td>\n",
       "      <td>0.0</td>\n",
       "      <td>0.0</td>\n",
       "    </tr>\n",
       "  </tbody>\n",
       "</table>\n",
       "<p>2 rows × 191 columns</p>\n",
       "</div>"
      ],
      "text/plain": [
       "Compounds  Carbon disulfide  Methylsulfanylmethane (Dimethyl sulfide)   \\\n",
       "0_1                0.130670                                        0.0   \n",
       "0_2                0.167196                                        0.0   \n",
       "\n",
       "Compounds  2-Methylheptane  Furan  Propan-2-one  4-Methyloctane    \\\n",
       "0_1               0.000000    0.0      1.435842          0.517948   \n",
       "0_2               0.027512    0.0      0.952583          0.000000   \n",
       "\n",
       "Compounds  (E)-oct-2-ene  2-Methylfuran  Butan-2-one    Nonane  ...  \\\n",
       "0_1                  0.0            0.0       0.175037     0.0  ...   \n",
       "0_2                  0.0            0.0       0.332735     0.0  ...   \n",
       "\n",
       "Compounds  Undecan-4-ylbenzene (4-Phenylundecane)  Phenylmethanol  \\\n",
       "0_1                                           0.0             0.0   \n",
       "0_2                                           0.0             0.0   \n",
       "\n",
       "Compounds  (1-hydroxy-2,4,4-trimethylpentan-3-yl) 2-methylpropanoate    \\\n",
       "0_1                                                      0.0             \n",
       "0_2                                                      0.0             \n",
       "\n",
       "Compounds  Methylsulfonylmethane (Dimethyl sulfone)  \\\n",
       "0_1                                        0.324772   \n",
       "0_2                                        0.004501   \n",
       "\n",
       "Compounds  Dodecan-3-ylbenzene (3-Phenyldodecane)   2-Phenylethanol    \\\n",
       "0_1                                            0.0           0.000000   \n",
       "0_2                                            0.0           0.005626   \n",
       "\n",
       "Compounds  2-Phenylacetonitrile  1,4-Butanediol  Benzeneacetonitrile  \\\n",
       "0_1                     0.03144             0.0                  0.0   \n",
       "0_2                     0.00000             0.0                  0.0   \n",
       "\n",
       "Compounds  Nonadecane  \n",
       "0_1               0.0  \n",
       "0_2               0.0  \n",
       "\n",
       "[2 rows x 191 columns]"
      ]
     },
     "execution_count": 3,
     "metadata": {},
     "output_type": "execute_result"
    }
   ],
   "source": [
    "# raw_data = pd.read_excel('./data/raw_data/(Metabolite)GC-Volatile_250529.xlsx', sheet_name='RAW_DATA', index_col=0).T\n",
    "# raw_data.head(2)"
   ]
  },
  {
   "cell_type": "code",
   "execution_count": 2,
   "id": "55f0473d",
   "metadata": {},
   "outputs": [
    {
     "data": {
      "text/html": [
       "<div>\n",
       "<style scoped>\n",
       "    .dataframe tbody tr th:only-of-type {\n",
       "        vertical-align: middle;\n",
       "    }\n",
       "\n",
       "    .dataframe tbody tr th {\n",
       "        vertical-align: top;\n",
       "    }\n",
       "\n",
       "    .dataframe thead th {\n",
       "        text-align: right;\n",
       "    }\n",
       "</style>\n",
       "<table border=\"1\" class=\"dataframe\">\n",
       "  <thead>\n",
       "    <tr style=\"text-align: right;\">\n",
       "      <th></th>\n",
       "      <th>Carbon disulfide</th>\n",
       "      <th>Methylsulfanylmethane (Dimethyl sulfide)</th>\n",
       "      <th>2-Methylheptane</th>\n",
       "      <th>Furan</th>\n",
       "      <th>Propan-2-one</th>\n",
       "      <th>4-Methyloctane</th>\n",
       "      <th>(E)-oct-2-ene</th>\n",
       "      <th>2-Methylfuran</th>\n",
       "      <th>Butan-2-one</th>\n",
       "      <th>Nonane</th>\n",
       "      <th>...</th>\n",
       "      <th>Undecan-4-ylbenzene (4-Phenylundecane)</th>\n",
       "      <th>Phenylmethanol</th>\n",
       "      <th>(1-hydroxy-2,4,4-trimethylpentan-3-yl) 2-methylpropanoate</th>\n",
       "      <th>Methylsulfonylmethane (Dimethyl sulfone)</th>\n",
       "      <th>Dodecan-3-ylbenzene (3-Phenyldodecane)</th>\n",
       "      <th>2-Phenylethanol</th>\n",
       "      <th>2-Phenylacetonitrile</th>\n",
       "      <th>1,4-Butanediol</th>\n",
       "      <th>Benzeneacetonitrile</th>\n",
       "      <th>Nonadecane</th>\n",
       "    </tr>\n",
       "  </thead>\n",
       "  <tbody>\n",
       "    <tr>\n",
       "      <th>A0-1</th>\n",
       "      <td>0.130670</td>\n",
       "      <td>0.0</td>\n",
       "      <td>0.000000</td>\n",
       "      <td>0.0</td>\n",
       "      <td>1.435842</td>\n",
       "      <td>0.517948</td>\n",
       "      <td>0.0</td>\n",
       "      <td>0.0</td>\n",
       "      <td>0.175037</td>\n",
       "      <td>0.0</td>\n",
       "      <td>...</td>\n",
       "      <td>0.0</td>\n",
       "      <td>0.0</td>\n",
       "      <td>0.0</td>\n",
       "      <td>0.324772</td>\n",
       "      <td>0.0</td>\n",
       "      <td>0.000000</td>\n",
       "      <td>0.03144</td>\n",
       "      <td>0.0</td>\n",
       "      <td>0.0</td>\n",
       "      <td>0.0</td>\n",
       "    </tr>\n",
       "    <tr>\n",
       "      <th>A0-2</th>\n",
       "      <td>0.167196</td>\n",
       "      <td>0.0</td>\n",
       "      <td>0.027512</td>\n",
       "      <td>0.0</td>\n",
       "      <td>0.952583</td>\n",
       "      <td>0.000000</td>\n",
       "      <td>0.0</td>\n",
       "      <td>0.0</td>\n",
       "      <td>0.332735</td>\n",
       "      <td>0.0</td>\n",
       "      <td>...</td>\n",
       "      <td>0.0</td>\n",
       "      <td>0.0</td>\n",
       "      <td>0.0</td>\n",
       "      <td>0.004501</td>\n",
       "      <td>0.0</td>\n",
       "      <td>0.005626</td>\n",
       "      <td>0.00000</td>\n",
       "      <td>0.0</td>\n",
       "      <td>0.0</td>\n",
       "      <td>0.0</td>\n",
       "    </tr>\n",
       "  </tbody>\n",
       "</table>\n",
       "<p>2 rows × 191 columns</p>\n",
       "</div>"
      ],
      "text/plain": [
       "      Carbon disulfide  Methylsulfanylmethane (Dimethyl sulfide)  \\\n",
       "A0-1          0.130670                                       0.0   \n",
       "A0-2          0.167196                                       0.0   \n",
       "\n",
       "      2-Methylheptane  Furan  Propan-2-one  4-Methyloctane  (E)-oct-2-ene  \\\n",
       "A0-1         0.000000    0.0      1.435842        0.517948            0.0   \n",
       "A0-2         0.027512    0.0      0.952583        0.000000            0.0   \n",
       "\n",
       "      2-Methylfuran  Butan-2-one  Nonane  ...  \\\n",
       "A0-1            0.0     0.175037     0.0  ...   \n",
       "A0-2            0.0     0.332735     0.0  ...   \n",
       "\n",
       "      Undecan-4-ylbenzene (4-Phenylundecane)  Phenylmethanol  \\\n",
       "A0-1                                     0.0             0.0   \n",
       "A0-2                                     0.0             0.0   \n",
       "\n",
       "      (1-hydroxy-2,4,4-trimethylpentan-3-yl) 2-methylpropanoate  \\\n",
       "A0-1                                                0.0           \n",
       "A0-2                                                0.0           \n",
       "\n",
       "      Methylsulfonylmethane (Dimethyl sulfone)  \\\n",
       "A0-1                                  0.324772   \n",
       "A0-2                                  0.004501   \n",
       "\n",
       "      Dodecan-3-ylbenzene (3-Phenyldodecane)  2-Phenylethanol  \\\n",
       "A0-1                                     0.0         0.000000   \n",
       "A0-2                                     0.0         0.005626   \n",
       "\n",
       "      2-Phenylacetonitrile  1,4-Butanediol  Benzeneacetonitrile  Nonadecane  \n",
       "A0-1               0.03144             0.0                  0.0         0.0  \n",
       "A0-2               0.00000             0.0                  0.0         0.0  \n",
       "\n",
       "[2 rows x 191 columns]"
      ]
     },
     "execution_count": 2,
     "metadata": {},
     "output_type": "execute_result"
    }
   ],
   "source": [
    "data = pd.read_excel('./data/GC_Volatile_data.xlsx', index_col=0)\n",
    "data.head(2)"
   ]
  },
  {
   "cell_type": "markdown",
   "id": "c416171f",
   "metadata": {},
   "source": [
    "#### 1-1> 데이터 확인"
   ]
  },
  {
   "cell_type": "code",
   "execution_count": 5,
   "id": "110f5c01",
   "metadata": {},
   "outputs": [
    {
     "name": "stdout",
     "output_type": "stream",
     "text": [
      "(270, 191)\n",
      "Index(['Carbon disulfide', 'Methylsulfanylmethane (Dimethyl sulfide) ',\n",
      "       '2-Methylheptane', 'Furan', 'Propan-2-one', '4-Methyloctane  ',\n",
      "       '(E)-oct-2-ene', '2-Methylfuran', 'Butan-2-one  ', 'Nonane',\n",
      "       ...\n",
      "       'Undecan-4-ylbenzene (4-Phenylundecane)', 'Phenylmethanol',\n",
      "       '(1-hydroxy-2,4,4-trimethylpentan-3-yl) 2-methylpropanoate  ',\n",
      "       'Methylsulfonylmethane (Dimethyl sulfone)',\n",
      "       'Dodecan-3-ylbenzene (3-Phenyldodecane) ', '2-Phenylethanol  ',\n",
      "       '2-Phenylacetonitrile', '1,4-Butanediol', 'Benzeneacetonitrile',\n",
      "       'Nonadecane'],\n",
      "      dtype='object', name='Compounds', length=191)\n"
     ]
    }
   ],
   "source": [
    "print(raw_data.shape)\n",
    "print(raw_data.columns)"
   ]
  },
  {
   "cell_type": "code",
   "execution_count": 8,
   "id": "d7fd4f68",
   "metadata": {},
   "outputs": [
    {
     "name": "stdout",
     "output_type": "stream",
     "text": [
      "39144 0.759\n"
     ]
    }
   ],
   "source": [
    "# 0 값의 개수와 비율\n",
    "zcnt = 0\n",
    "total_cnt = len(raw_data.columns) * len(raw_data.index)\n",
    "for c in raw_data.columns:\n",
    "    zcnt += len(raw_data.loc[raw_data[c] == 0])\n",
    "\n",
    "print(zcnt, np.round(zcnt/total_cnt, 4))"
   ]
  },
  {
   "cell_type": "code",
   "execution_count": 9,
   "id": "d6af1476",
   "metadata": {},
   "outputs": [
    {
     "name": "stdout",
     "output_type": "stream",
     "text": [
      "3 0.0001\n"
     ]
    }
   ],
   "source": [
    "# null 값의 개수와 비율\n",
    "nullcnt = raw_data.isna().sum().sum()\n",
    "print(nullcnt, np.round(nullcnt / total_cnt, 4))"
   ]
  },
  {
   "cell_type": "code",
   "execution_count": 10,
   "id": "4fe842cc",
   "metadata": {},
   "outputs": [
    {
     "name": "stdout",
     "output_type": "stream",
     "text": [
      "12426 0.241\n"
     ]
    }
   ],
   "source": [
    "# 0이 아닌 값의 개수와 비율\n",
    "nzcnt = 0\n",
    "for c in raw_data.columns:\n",
    "    nzcnt += len(raw_data.loc[raw_data[c] != 0])\n",
    "\n",
    "print(nzcnt, np.round(nzcnt/total_cnt, 4))"
   ]
  },
  {
   "cell_type": "markdown",
   "id": "db5ce68b",
   "metadata": {},
   "source": [
    "#### 1-2> 데이터 수정 및 분할"
   ]
  },
  {
   "cell_type": "markdown",
   "id": "d3bc572e",
   "metadata": {},
   "source": [
    "* 데이터 인덱스 수정 (0_1 -> A0-1)\n",
    "* 컬럼 수정\n",
    "* sheet 분류"
   ]
  },
  {
   "cell_type": "code",
   "execution_count": 11,
   "id": "63acd5a0",
   "metadata": {},
   "outputs": [
    {
     "data": {
      "text/html": [
       "<div>\n",
       "<style scoped>\n",
       "    .dataframe tbody tr th:only-of-type {\n",
       "        vertical-align: middle;\n",
       "    }\n",
       "\n",
       "    .dataframe tbody tr th {\n",
       "        vertical-align: top;\n",
       "    }\n",
       "\n",
       "    .dataframe thead th {\n",
       "        text-align: right;\n",
       "    }\n",
       "</style>\n",
       "<table border=\"1\" class=\"dataframe\">\n",
       "  <thead>\n",
       "    <tr style=\"text-align: right;\">\n",
       "      <th>Compounds</th>\n",
       "      <th>Carbon disulfide</th>\n",
       "      <th>Methylsulfanylmethane (Dimethyl sulfide)</th>\n",
       "      <th>2-Methylheptane</th>\n",
       "      <th>Furan</th>\n",
       "      <th>Propan-2-one</th>\n",
       "      <th>4-Methyloctane</th>\n",
       "      <th>(E)-oct-2-ene</th>\n",
       "      <th>2-Methylfuran</th>\n",
       "      <th>Butan-2-one</th>\n",
       "      <th>Nonane</th>\n",
       "      <th>...</th>\n",
       "      <th>Undecan-4-ylbenzene (4-Phenylundecane)</th>\n",
       "      <th>Phenylmethanol</th>\n",
       "      <th>(1-hydroxy-2,4,4-trimethylpentan-3-yl) 2-methylpropanoate</th>\n",
       "      <th>Methylsulfonylmethane (Dimethyl sulfone)</th>\n",
       "      <th>Dodecan-3-ylbenzene (3-Phenyldodecane)</th>\n",
       "      <th>2-Phenylethanol</th>\n",
       "      <th>2-Phenylacetonitrile</th>\n",
       "      <th>1,4-Butanediol</th>\n",
       "      <th>Benzeneacetonitrile</th>\n",
       "      <th>Nonadecane</th>\n",
       "    </tr>\n",
       "  </thead>\n",
       "  <tbody>\n",
       "    <tr>\n",
       "      <th>A0-1</th>\n",
       "      <td>0.130670</td>\n",
       "      <td>0.0</td>\n",
       "      <td>0.000000</td>\n",
       "      <td>0.0</td>\n",
       "      <td>1.435842</td>\n",
       "      <td>0.517948</td>\n",
       "      <td>0.0</td>\n",
       "      <td>0.0</td>\n",
       "      <td>0.175037</td>\n",
       "      <td>0.0</td>\n",
       "      <td>...</td>\n",
       "      <td>0.0</td>\n",
       "      <td>0.0</td>\n",
       "      <td>0.0</td>\n",
       "      <td>0.324772</td>\n",
       "      <td>0.0</td>\n",
       "      <td>0.000000</td>\n",
       "      <td>0.03144</td>\n",
       "      <td>0.0</td>\n",
       "      <td>0.0</td>\n",
       "      <td>0.0</td>\n",
       "    </tr>\n",
       "    <tr>\n",
       "      <th>A0-2</th>\n",
       "      <td>0.167196</td>\n",
       "      <td>0.0</td>\n",
       "      <td>0.027512</td>\n",
       "      <td>0.0</td>\n",
       "      <td>0.952583</td>\n",
       "      <td>0.000000</td>\n",
       "      <td>0.0</td>\n",
       "      <td>0.0</td>\n",
       "      <td>0.332735</td>\n",
       "      <td>0.0</td>\n",
       "      <td>...</td>\n",
       "      <td>0.0</td>\n",
       "      <td>0.0</td>\n",
       "      <td>0.0</td>\n",
       "      <td>0.004501</td>\n",
       "      <td>0.0</td>\n",
       "      <td>0.005626</td>\n",
       "      <td>0.00000</td>\n",
       "      <td>0.0</td>\n",
       "      <td>0.0</td>\n",
       "      <td>0.0</td>\n",
       "    </tr>\n",
       "  </tbody>\n",
       "</table>\n",
       "<p>2 rows × 191 columns</p>\n",
       "</div>"
      ],
      "text/plain": [
       "Compounds  Carbon disulfide  Methylsulfanylmethane (Dimethyl sulfide)  \\\n",
       "A0-1               0.130670                                       0.0   \n",
       "A0-2               0.167196                                       0.0   \n",
       "\n",
       "Compounds  2-Methylheptane  Furan  Propan-2-one  4-Methyloctane  \\\n",
       "A0-1              0.000000    0.0      1.435842        0.517948   \n",
       "A0-2              0.027512    0.0      0.952583        0.000000   \n",
       "\n",
       "Compounds  (E)-oct-2-ene  2-Methylfuran  Butan-2-one  Nonane  ...  \\\n",
       "A0-1                 0.0            0.0     0.175037     0.0  ...   \n",
       "A0-2                 0.0            0.0     0.332735     0.0  ...   \n",
       "\n",
       "Compounds  Undecan-4-ylbenzene (4-Phenylundecane)  Phenylmethanol  \\\n",
       "A0-1                                          0.0             0.0   \n",
       "A0-2                                          0.0             0.0   \n",
       "\n",
       "Compounds  (1-hydroxy-2,4,4-trimethylpentan-3-yl) 2-methylpropanoate  \\\n",
       "A0-1                                                     0.0           \n",
       "A0-2                                                     0.0           \n",
       "\n",
       "Compounds  Methylsulfonylmethane (Dimethyl sulfone)  \\\n",
       "A0-1                                       0.324772   \n",
       "A0-2                                       0.004501   \n",
       "\n",
       "Compounds  Dodecan-3-ylbenzene (3-Phenyldodecane)  2-Phenylethanol  \\\n",
       "A0-1                                          0.0         0.000000   \n",
       "A0-2                                          0.0         0.005626   \n",
       "\n",
       "Compounds  2-Phenylacetonitrile  1,4-Butanediol  Benzeneacetonitrile  \\\n",
       "A0-1                    0.03144             0.0                  0.0   \n",
       "A0-2                    0.00000             0.0                  0.0   \n",
       "\n",
       "Compounds  Nonadecane  \n",
       "A0-1              0.0  \n",
       "A0-2              0.0  \n",
       "\n",
       "[2 rows x 191 columns]"
      ]
     },
     "execution_count": 11,
     "metadata": {},
     "output_type": "execute_result"
    }
   ],
   "source": [
    "raw_data.index = [('A' + str(x) + '-' + str(y)) for x in [0, 1, 3, 5, 7, 9, 11, 14, 18] for y in range(1, 31)]\n",
    "raw_data.columns = raw_data.columns.str.strip()\n",
    "raw_data.head(2)"
   ]
  },
  {
   "cell_type": "code",
   "execution_count": null,
   "id": "93eef392",
   "metadata": {},
   "outputs": [],
   "source": [
    "# raw_data.to_excel('./data/GC_Volatile_data.xlsx', sheet_name='RAW_DATA')"
   ]
  },
  {
   "cell_type": "code",
   "execution_count": 12,
   "id": "72a6419b",
   "metadata": {},
   "outputs": [
    {
     "data": {
      "text/html": [
       "<div>\n",
       "<style scoped>\n",
       "    .dataframe tbody tr th:only-of-type {\n",
       "        vertical-align: middle;\n",
       "    }\n",
       "\n",
       "    .dataframe tbody tr th {\n",
       "        vertical-align: top;\n",
       "    }\n",
       "\n",
       "    .dataframe thead th {\n",
       "        text-align: right;\n",
       "    }\n",
       "</style>\n",
       "<table border=\"1\" class=\"dataframe\">\n",
       "  <thead>\n",
       "    <tr style=\"text-align: right;\">\n",
       "      <th></th>\n",
       "      <th>Compounds class</th>\n",
       "      <th>Compounds</th>\n",
       "    </tr>\n",
       "  </thead>\n",
       "  <tbody>\n",
       "    <tr>\n",
       "      <th>0</th>\n",
       "      <td>S containing compounds</td>\n",
       "      <td>Carbon disulfide</td>\n",
       "    </tr>\n",
       "    <tr>\n",
       "      <th>1</th>\n",
       "      <td>S containing compounds</td>\n",
       "      <td>Methylsulfanylmethane (Dimethyl sulfide)</td>\n",
       "    </tr>\n",
       "  </tbody>\n",
       "</table>\n",
       "</div>"
      ],
      "text/plain": [
       "          Compounds class                                  Compounds\n",
       "0  S containing compounds                           Carbon disulfide\n",
       "1  S containing compounds  Methylsulfanylmethane (Dimethyl sulfide) "
      ]
     },
     "execution_count": 12,
     "metadata": {},
     "output_type": "execute_result"
    }
   ],
   "source": [
    "raw_sheet2 = pd.read_excel('./data/raw_data/(Metabolite)GC-Volatile_250529.xlsx', sheet_name='RAW_DATA (화합물분류)')\n",
    "raw_sheet2 = raw_sheet2.drop(columns=raw_sheet2.columns[2:], axis=1)\n",
    "raw_sheet2.head(2)"
   ]
  },
  {
   "cell_type": "code",
   "execution_count": 13,
   "id": "e7f68994",
   "metadata": {},
   "outputs": [
    {
     "data": {
      "text/html": [
       "<div>\n",
       "<style scoped>\n",
       "    .dataframe tbody tr th:only-of-type {\n",
       "        vertical-align: middle;\n",
       "    }\n",
       "\n",
       "    .dataframe tbody tr th {\n",
       "        vertical-align: top;\n",
       "    }\n",
       "\n",
       "    .dataframe thead th {\n",
       "        text-align: right;\n",
       "    }\n",
       "</style>\n",
       "<table border=\"1\" class=\"dataframe\">\n",
       "  <thead>\n",
       "    <tr style=\"text-align: right;\">\n",
       "      <th></th>\n",
       "      <th>Compounds</th>\n",
       "      <th>Class</th>\n",
       "    </tr>\n",
       "  </thead>\n",
       "  <tbody>\n",
       "    <tr>\n",
       "      <th>0</th>\n",
       "      <td>Carbon disulfide</td>\n",
       "      <td>S containing compounds</td>\n",
       "    </tr>\n",
       "    <tr>\n",
       "      <th>1</th>\n",
       "      <td>Methylsulfanylmethane (Dimethyl sulfide)</td>\n",
       "      <td>S containing compounds</td>\n",
       "    </tr>\n",
       "  </tbody>\n",
       "</table>\n",
       "</div>"
      ],
      "text/plain": [
       "                                  Compounds                   Class\n",
       "0                          Carbon disulfide  S containing compounds\n",
       "1  Methylsulfanylmethane (Dimethyl sulfide)  S containing compounds"
      ]
     },
     "execution_count": 13,
     "metadata": {},
     "output_type": "execute_result"
    }
   ],
   "source": [
    "raw_sheet2 = raw_sheet2[['Compounds', 'Compounds class']]\n",
    "raw_sheet2.columns = ['Compounds', 'Class']\n",
    "raw_sheet2['Compounds'] = raw_sheet2['Compounds'].str.strip()\n",
    "raw_sheet2.head(2)"
   ]
  },
  {
   "cell_type": "code",
   "execution_count": null,
   "id": "a0a1cba4",
   "metadata": {},
   "outputs": [],
   "source": [
    "# raw_sheet2.to_excel('./data/GC_Volatile_class.xlsx', sheet_name='RAW_DATA (class)',index=0)"
   ]
  },
  {
   "cell_type": "markdown",
   "id": "d96b03f6",
   "metadata": {},
   "source": [
    "#### 1-3> 일자별 분할"
   ]
  },
  {
   "cell_type": "code",
   "execution_count": 3,
   "id": "bfcb151b",
   "metadata": {},
   "outputs": [
    {
     "data": {
      "text/plain": [
       "A0-1       0\n",
       "A0-2       0\n",
       "A0-3       0\n",
       "A0-4       0\n",
       "A0-5       0\n",
       "          ..\n",
       "A18-26    18\n",
       "A18-27    18\n",
       "A18-28    18\n",
       "A18-29    18\n",
       "A18-30    18\n",
       "Name: days, Length: 270, dtype: int64"
      ]
     },
     "execution_count": 3,
     "metadata": {},
     "output_type": "execute_result"
    }
   ],
   "source": [
    "data['days'] = data.index.str.split('A').str[1]\n",
    "data['days'] = data['days'].str.split('-').str[0].astype(int)\n",
    "data['days']"
   ]
  },
  {
   "cell_type": "code",
   "execution_count": 15,
   "id": "a8901b5b",
   "metadata": {},
   "outputs": [
    {
     "data": {
      "text/plain": [
       "array([ 0,  1,  3,  5,  7,  9, 11, 14, 18])"
      ]
     },
     "execution_count": 15,
     "metadata": {},
     "output_type": "execute_result"
    }
   ],
   "source": [
    "data['days'].unique()"
   ]
  },
  {
   "cell_type": "code",
   "execution_count": 17,
   "id": "507535c5",
   "metadata": {},
   "outputs": [],
   "source": [
    "for i in data['days'].unique():\n",
    "    data_day = data.loc[data['days'] == i]\n",
    "    data_day = data_day.drop(columns='days', axis=1)\n",
    "    path = './data/GC_Volatile_day' + f\"{i:02d}\" + '.xlsx'\n",
    "    data_day.to_excel(path, sheet_name=f\"day{i:02d}\", index=0)"
   ]
  },
  {
   "cell_type": "code",
   "execution_count": 20,
   "id": "00d47b55",
   "metadata": {},
   "outputs": [
    {
     "data": {
      "text/html": [
       "<div>\n",
       "<style scoped>\n",
       "    .dataframe tbody tr th:only-of-type {\n",
       "        vertical-align: middle;\n",
       "    }\n",
       "\n",
       "    .dataframe tbody tr th {\n",
       "        vertical-align: top;\n",
       "    }\n",
       "\n",
       "    .dataframe thead th {\n",
       "        text-align: right;\n",
       "    }\n",
       "</style>\n",
       "<table border=\"1\" class=\"dataframe\">\n",
       "  <thead>\n",
       "    <tr style=\"text-align: right;\">\n",
       "      <th></th>\n",
       "      <th>Carbon disulfide</th>\n",
       "      <th>Methylsulfanylmethane (Dimethyl sulfide)</th>\n",
       "      <th>2-Methylheptane</th>\n",
       "      <th>Furan</th>\n",
       "      <th>Propan-2-one</th>\n",
       "      <th>4-Methyloctane</th>\n",
       "      <th>(E)-oct-2-ene</th>\n",
       "      <th>2-Methylfuran</th>\n",
       "      <th>Butan-2-one</th>\n",
       "      <th>Nonane</th>\n",
       "      <th>...</th>\n",
       "      <th>Undecan-4-ylbenzene (4-Phenylundecane)</th>\n",
       "      <th>Phenylmethanol</th>\n",
       "      <th>(1-hydroxy-2,4,4-trimethylpentan-3-yl) 2-methylpropanoate</th>\n",
       "      <th>Methylsulfonylmethane (Dimethyl sulfone)</th>\n",
       "      <th>Dodecan-3-ylbenzene (3-Phenyldodecane)</th>\n",
       "      <th>2-Phenylethanol</th>\n",
       "      <th>2-Phenylacetonitrile</th>\n",
       "      <th>1,4-Butanediol</th>\n",
       "      <th>Benzeneacetonitrile</th>\n",
       "      <th>Nonadecane</th>\n",
       "    </tr>\n",
       "  </thead>\n",
       "  <tbody>\n",
       "    <tr>\n",
       "      <th>0</th>\n",
       "      <td>0.0</td>\n",
       "      <td>0.059838</td>\n",
       "      <td>0.0</td>\n",
       "      <td>0</td>\n",
       "      <td>0.000000</td>\n",
       "      <td>0.000000</td>\n",
       "      <td>0.0</td>\n",
       "      <td>0</td>\n",
       "      <td>0.446364</td>\n",
       "      <td>0</td>\n",
       "      <td>...</td>\n",
       "      <td>0</td>\n",
       "      <td>0</td>\n",
       "      <td>0</td>\n",
       "      <td>0.042213</td>\n",
       "      <td>0</td>\n",
       "      <td>0.309898</td>\n",
       "      <td>0</td>\n",
       "      <td>0</td>\n",
       "      <td>0.0</td>\n",
       "      <td>0</td>\n",
       "    </tr>\n",
       "    <tr>\n",
       "      <th>1</th>\n",
       "      <td>0.0</td>\n",
       "      <td>0.242405</td>\n",
       "      <td>0.0</td>\n",
       "      <td>0</td>\n",
       "      <td>0.442002</td>\n",
       "      <td>0.905596</td>\n",
       "      <td>0.0</td>\n",
       "      <td>0</td>\n",
       "      <td>0.525117</td>\n",
       "      <td>0</td>\n",
       "      <td>...</td>\n",
       "      <td>0</td>\n",
       "      <td>0</td>\n",
       "      <td>0</td>\n",
       "      <td>0.034399</td>\n",
       "      <td>0</td>\n",
       "      <td>0.108116</td>\n",
       "      <td>0</td>\n",
       "      <td>0</td>\n",
       "      <td>0.0</td>\n",
       "      <td>0</td>\n",
       "    </tr>\n",
       "  </tbody>\n",
       "</table>\n",
       "<p>2 rows × 191 columns</p>\n",
       "</div>"
      ],
      "text/plain": [
       "   Carbon disulfide  Methylsulfanylmethane (Dimethyl sulfide)  \\\n",
       "0               0.0                                  0.059838   \n",
       "1               0.0                                  0.242405   \n",
       "\n",
       "   2-Methylheptane  Furan  Propan-2-one  4-Methyloctane  (E)-oct-2-ene  \\\n",
       "0              0.0      0      0.000000        0.000000            0.0   \n",
       "1              0.0      0      0.442002        0.905596            0.0   \n",
       "\n",
       "   2-Methylfuran  Butan-2-one  Nonane  ...  \\\n",
       "0              0     0.446364       0  ...   \n",
       "1              0     0.525117       0  ...   \n",
       "\n",
       "   Undecan-4-ylbenzene (4-Phenylundecane)  Phenylmethanol  \\\n",
       "0                                       0               0   \n",
       "1                                       0               0   \n",
       "\n",
       "   (1-hydroxy-2,4,4-trimethylpentan-3-yl) 2-methylpropanoate  \\\n",
       "0                                                  0           \n",
       "1                                                  0           \n",
       "\n",
       "   Methylsulfonylmethane (Dimethyl sulfone)  \\\n",
       "0                                  0.042213   \n",
       "1                                  0.034399   \n",
       "\n",
       "   Dodecan-3-ylbenzene (3-Phenyldodecane)  2-Phenylethanol  \\\n",
       "0                                       0         0.309898   \n",
       "1                                       0         0.108116   \n",
       "\n",
       "   2-Phenylacetonitrile  1,4-Butanediol  Benzeneacetonitrile  Nonadecane  \n",
       "0                     0               0                  0.0           0  \n",
       "1                     0               0                  0.0           0  \n",
       "\n",
       "[2 rows x 191 columns]"
      ]
     },
     "execution_count": 20,
     "metadata": {},
     "output_type": "execute_result"
    }
   ],
   "source": [
    "vol00 = pd.read_excel('./data/GC_Volatile_day00.xlsx')\n",
    "vol01 = pd.read_excel('./data/GC_Volatile_day01.xlsx')\n",
    "vol03 = pd.read_excel('./data/GC_Volatile_day03.xlsx')\n",
    "\n",
    "vol05 = pd.read_excel('./data/GC_Volatile_day05.xlsx')\n",
    "vol07 = pd.read_excel('./data/GC_Volatile_day07.xlsx')\n",
    "vol09 = pd.read_excel('./data/GC_Volatile_day09.xlsx')\n",
    "\n",
    "vol11 = pd.read_excel('./data/GC_Volatile_day11.xlsx')\n",
    "vol14 = pd.read_excel('./data/GC_Volatile_day14.xlsx')\n",
    "vol18 = pd.read_excel('./data/GC_Volatile_day18.xlsx')\n",
    "\n",
    "vol18.head(2)"
   ]
  },
  {
   "cell_type": "code",
   "execution_count": 26,
   "id": "5880c703",
   "metadata": {},
   "outputs": [],
   "source": [
    "from scipy.stats import f_oneway\n",
    "from statsmodels.formula.api import ols\n",
    "from statsmodels.stats.anova import anova_lm"
   ]
  },
  {
   "cell_type": "code",
   "execution_count": 27,
   "id": "a42bc5de",
   "metadata": {},
   "outputs": [
    {
     "data": {
      "text/html": [
       "<div>\n",
       "<style scoped>\n",
       "    .dataframe tbody tr th:only-of-type {\n",
       "        vertical-align: middle;\n",
       "    }\n",
       "\n",
       "    .dataframe tbody tr th {\n",
       "        vertical-align: top;\n",
       "    }\n",
       "\n",
       "    .dataframe thead th {\n",
       "        text-align: right;\n",
       "    }\n",
       "</style>\n",
       "<table border=\"1\" class=\"dataframe\">\n",
       "  <thead>\n",
       "    <tr style=\"text-align: right;\">\n",
       "      <th></th>\n",
       "      <th>Methyl</th>\n",
       "      <th>days</th>\n",
       "    </tr>\n",
       "  </thead>\n",
       "  <tbody>\n",
       "    <tr>\n",
       "      <th>A0-1</th>\n",
       "      <td>0.0</td>\n",
       "      <td>0</td>\n",
       "    </tr>\n",
       "    <tr>\n",
       "      <th>A0-2</th>\n",
       "      <td>0.0</td>\n",
       "      <td>0</td>\n",
       "    </tr>\n",
       "  </tbody>\n",
       "</table>\n",
       "</div>"
      ],
      "text/plain": [
       "      Methyl  days\n",
       "A0-1     0.0     0\n",
       "A0-2     0.0     0"
      ]
     },
     "execution_count": 27,
     "metadata": {},
     "output_type": "execute_result"
    }
   ],
   "source": [
    "anova1 = data[['3-Methylbutan-1-ol', 'days']]\n",
    "anova1.columns = ['Methyl', 'days']\n",
    "anova1.head(2)"
   ]
  },
  {
   "cell_type": "code",
   "execution_count": null,
   "id": "60d73fc3",
   "metadata": {},
   "outputs": [
    {
     "data": {
      "text/plain": [
       "days\n",
       "0     [0.0, 0.0, 0.0, 0.0, 0.0, 0.0, 0.0, 0.0, 0.0, ...\n",
       "1     [0.0, 0.0, 0.0, 0.0, 0.0, 0.0, 0.0, 0.0, 0.0, ...\n",
       "3     [0.0, 0.0, 0.0, 0.0, 0.0, 0.0, 0.060348146, 0....\n",
       "5     [0.0, 0.0, 0.0, 0.0, 0.0, 0.0, 0.0, 0.0, 0.0, ...\n",
       "7     [0.0, 0.0, 0.0, 0.0, 0.0, 0.018619532, 0.0, 0....\n",
       "9     [0.134831896, 0.143631984, 0.007450522, 0.0113...\n",
       "11    [5.980286176, 16.1260892, 0.616330194, 5.96112...\n",
       "14    [6.946721674, 6.542003421, 2.779050382, 1.8441...\n",
       "18    [6.090099166, 5.796483916, 3.570555808, 4.5594...\n",
       "Name: 3-Methylbutan-1-ol, dtype: object"
      ]
     },
     "execution_count": 33,
     "metadata": {},
     "output_type": "execute_result"
    }
   ],
   "source": [
    "grouped = anova1.groupby('days')['Methyl'].apply(list)\n",
    "grouped"
   ]
  },
  {
   "cell_type": "code",
   "execution_count": 34,
   "id": "3bf16411",
   "metadata": {},
   "outputs": [
    {
     "name": "stdout",
     "output_type": "stream",
     "text": [
      "f_stat:  62.952772136061434\n",
      "p_value:  1.3531844442140145e-56\n"
     ]
    }
   ],
   "source": [
    "f_stat, p_value = f_oneway(*grouped)\n",
    "print(\"f_stat: \", f_stat)\n",
    "print(\"p_value: \", p_value)"
   ]
  },
  {
   "cell_type": "code",
   "execution_count": 38,
   "id": "3a756370",
   "metadata": {},
   "outputs": [
    {
     "name": "stdout",
     "output_type": "stream",
     "text": [
      "             df       sum_sq     mean_sq          F        PR(>F)\n",
      "C(days)     8.0  1935.106392  241.888299  62.952772  1.353184e-56\n",
      "Residual  261.0  1002.860460    3.842377        NaN           NaN\n"
     ]
    }
   ],
   "source": [
    "model = ols(\"Methyl ~ C(days)\", data=anova1).fit()\n",
    "anova_table = anova_lm(model)\n",
    "\n",
    "print(anova_table)"
   ]
  },
  {
   "cell_type": "markdown",
   "id": "97dab1d3",
   "metadata": {},
   "source": [
    "#### 사후 검정\n",
    "\n",
    "ANOVA 검정은 3개 이상의 집단이 동일한지를 비교분석하는 통계 방법  \n",
    "하지만 검정을 통해 집단 간 차이의 유무만 확인 가능할 뿐, 어떤 집단간 차이가 있는지는 알 수 없다.  \n",
    "P-value > 0.5 : A = B = C  \n",
    "P-value < 0.5 : A!=B or B!=C or C!=A or A!=B!=C  \n",
    "\n",
    "* 사후 분석을 통해 각 집단별로 어떤 차이가 있는지 확인 가능  \n",
    "\n",
    "tukey : 비교 대상 표본 수가 동일한 경우 가장 많이 사용되는 사후검정 기법  \n",
    "\n",
    "* 대사체와 날짜간 사후 검정을 통해 일별로 대사체가 차이가 있는지 확인 가능"
   ]
  },
  {
   "cell_type": "code",
   "execution_count": null,
   "id": "509aabbb",
   "metadata": {},
   "outputs": [],
   "source": [
    "from statsmodels.sandbox.stats.multicomp import MultiComparison"
   ]
  },
  {
   "cell_type": "code",
   "execution_count": 80,
   "id": "ad7c68b8",
   "metadata": {},
   "outputs": [
    {
     "data": {
      "text/html": [
       "<div>\n",
       "<style scoped>\n",
       "    .dataframe tbody tr th:only-of-type {\n",
       "        vertical-align: middle;\n",
       "    }\n",
       "\n",
       "    .dataframe tbody tr th {\n",
       "        vertical-align: top;\n",
       "    }\n",
       "\n",
       "    .dataframe thead th {\n",
       "        text-align: right;\n",
       "    }\n",
       "</style>\n",
       "<table border=\"1\" class=\"dataframe\">\n",
       "  <thead>\n",
       "    <tr style=\"text-align: right;\">\n",
       "      <th></th>\n",
       "      <th>group1</th>\n",
       "      <th>group2</th>\n",
       "      <th>meandiff</th>\n",
       "      <th>p-adj</th>\n",
       "      <th>lower</th>\n",
       "      <th>upper</th>\n",
       "      <th>reject</th>\n",
       "    </tr>\n",
       "  </thead>\n",
       "  <tbody>\n",
       "    <tr>\n",
       "      <th>5</th>\n",
       "      <td>0</td>\n",
       "      <td>11</td>\n",
       "      <td>7.0538</td>\n",
       "      <td>0.0000</td>\n",
       "      <td>5.4706</td>\n",
       "      <td>8.6369</td>\n",
       "      <td>True</td>\n",
       "    </tr>\n",
       "    <tr>\n",
       "      <th>6</th>\n",
       "      <td>0</td>\n",
       "      <td>14</td>\n",
       "      <td>4.7921</td>\n",
       "      <td>0.0000</td>\n",
       "      <td>3.2089</td>\n",
       "      <td>6.3753</td>\n",
       "      <td>True</td>\n",
       "    </tr>\n",
       "    <tr>\n",
       "      <th>7</th>\n",
       "      <td>0</td>\n",
       "      <td>18</td>\n",
       "      <td>4.7733</td>\n",
       "      <td>0.0000</td>\n",
       "      <td>3.1901</td>\n",
       "      <td>6.3564</td>\n",
       "      <td>True</td>\n",
       "    </tr>\n",
       "    <tr>\n",
       "      <th>12</th>\n",
       "      <td>1</td>\n",
       "      <td>11</td>\n",
       "      <td>7.0538</td>\n",
       "      <td>0.0000</td>\n",
       "      <td>5.4706</td>\n",
       "      <td>8.6369</td>\n",
       "      <td>True</td>\n",
       "    </tr>\n",
       "    <tr>\n",
       "      <th>13</th>\n",
       "      <td>1</td>\n",
       "      <td>14</td>\n",
       "      <td>4.7921</td>\n",
       "      <td>0.0000</td>\n",
       "      <td>3.2089</td>\n",
       "      <td>6.3753</td>\n",
       "      <td>True</td>\n",
       "    </tr>\n",
       "    <tr>\n",
       "      <th>14</th>\n",
       "      <td>1</td>\n",
       "      <td>18</td>\n",
       "      <td>4.7733</td>\n",
       "      <td>0.0000</td>\n",
       "      <td>3.1901</td>\n",
       "      <td>6.3564</td>\n",
       "      <td>True</td>\n",
       "    </tr>\n",
       "    <tr>\n",
       "      <th>18</th>\n",
       "      <td>3</td>\n",
       "      <td>11</td>\n",
       "      <td>7.0421</td>\n",
       "      <td>0.0000</td>\n",
       "      <td>5.4589</td>\n",
       "      <td>8.6253</td>\n",
       "      <td>True</td>\n",
       "    </tr>\n",
       "    <tr>\n",
       "      <th>19</th>\n",
       "      <td>3</td>\n",
       "      <td>14</td>\n",
       "      <td>4.7804</td>\n",
       "      <td>0.0000</td>\n",
       "      <td>3.1973</td>\n",
       "      <td>6.3636</td>\n",
       "      <td>True</td>\n",
       "    </tr>\n",
       "    <tr>\n",
       "      <th>20</th>\n",
       "      <td>3</td>\n",
       "      <td>18</td>\n",
       "      <td>4.7616</td>\n",
       "      <td>0.0000</td>\n",
       "      <td>3.1784</td>\n",
       "      <td>6.3447</td>\n",
       "      <td>True</td>\n",
       "    </tr>\n",
       "    <tr>\n",
       "      <th>23</th>\n",
       "      <td>5</td>\n",
       "      <td>11</td>\n",
       "      <td>7.0538</td>\n",
       "      <td>0.0000</td>\n",
       "      <td>5.4706</td>\n",
       "      <td>8.6369</td>\n",
       "      <td>True</td>\n",
       "    </tr>\n",
       "    <tr>\n",
       "      <th>24</th>\n",
       "      <td>5</td>\n",
       "      <td>14</td>\n",
       "      <td>4.7921</td>\n",
       "      <td>0.0000</td>\n",
       "      <td>3.2089</td>\n",
       "      <td>6.3753</td>\n",
       "      <td>True</td>\n",
       "    </tr>\n",
       "    <tr>\n",
       "      <th>25</th>\n",
       "      <td>5</td>\n",
       "      <td>18</td>\n",
       "      <td>4.7733</td>\n",
       "      <td>0.0000</td>\n",
       "      <td>3.1901</td>\n",
       "      <td>6.3564</td>\n",
       "      <td>True</td>\n",
       "    </tr>\n",
       "    <tr>\n",
       "      <th>27</th>\n",
       "      <td>7</td>\n",
       "      <td>11</td>\n",
       "      <td>7.0507</td>\n",
       "      <td>0.0000</td>\n",
       "      <td>5.4675</td>\n",
       "      <td>8.6338</td>\n",
       "      <td>True</td>\n",
       "    </tr>\n",
       "    <tr>\n",
       "      <th>28</th>\n",
       "      <td>7</td>\n",
       "      <td>14</td>\n",
       "      <td>4.7890</td>\n",
       "      <td>0.0000</td>\n",
       "      <td>3.2059</td>\n",
       "      <td>6.3722</td>\n",
       "      <td>True</td>\n",
       "    </tr>\n",
       "    <tr>\n",
       "      <th>29</th>\n",
       "      <td>7</td>\n",
       "      <td>18</td>\n",
       "      <td>4.7702</td>\n",
       "      <td>0.0000</td>\n",
       "      <td>3.1870</td>\n",
       "      <td>6.3533</td>\n",
       "      <td>True</td>\n",
       "    </tr>\n",
       "    <tr>\n",
       "      <th>30</th>\n",
       "      <td>9</td>\n",
       "      <td>11</td>\n",
       "      <td>6.9829</td>\n",
       "      <td>0.0000</td>\n",
       "      <td>5.3997</td>\n",
       "      <td>8.5661</td>\n",
       "      <td>True</td>\n",
       "    </tr>\n",
       "    <tr>\n",
       "      <th>31</th>\n",
       "      <td>9</td>\n",
       "      <td>14</td>\n",
       "      <td>4.7212</td>\n",
       "      <td>0.0000</td>\n",
       "      <td>3.1381</td>\n",
       "      <td>6.3044</td>\n",
       "      <td>True</td>\n",
       "    </tr>\n",
       "    <tr>\n",
       "      <th>32</th>\n",
       "      <td>9</td>\n",
       "      <td>18</td>\n",
       "      <td>4.7024</td>\n",
       "      <td>0.0000</td>\n",
       "      <td>3.1192</td>\n",
       "      <td>6.2855</td>\n",
       "      <td>True</td>\n",
       "    </tr>\n",
       "    <tr>\n",
       "      <th>33</th>\n",
       "      <td>11</td>\n",
       "      <td>14</td>\n",
       "      <td>-2.2616</td>\n",
       "      <td>0.0004</td>\n",
       "      <td>-3.8448</td>\n",
       "      <td>-0.6785</td>\n",
       "      <td>True</td>\n",
       "    </tr>\n",
       "    <tr>\n",
       "      <th>34</th>\n",
       "      <td>11</td>\n",
       "      <td>18</td>\n",
       "      <td>-2.2805</td>\n",
       "      <td>0.0003</td>\n",
       "      <td>-3.8637</td>\n",
       "      <td>-0.6973</td>\n",
       "      <td>True</td>\n",
       "    </tr>\n",
       "  </tbody>\n",
       "</table>\n",
       "</div>"
      ],
      "text/plain": [
       "    group1  group2  meandiff   p-adj   lower   upper  reject\n",
       "5        0      11    7.0538  0.0000  5.4706  8.6369    True\n",
       "6        0      14    4.7921  0.0000  3.2089  6.3753    True\n",
       "7        0      18    4.7733  0.0000  3.1901  6.3564    True\n",
       "12       1      11    7.0538  0.0000  5.4706  8.6369    True\n",
       "13       1      14    4.7921  0.0000  3.2089  6.3753    True\n",
       "14       1      18    4.7733  0.0000  3.1901  6.3564    True\n",
       "18       3      11    7.0421  0.0000  5.4589  8.6253    True\n",
       "19       3      14    4.7804  0.0000  3.1973  6.3636    True\n",
       "20       3      18    4.7616  0.0000  3.1784  6.3447    True\n",
       "23       5      11    7.0538  0.0000  5.4706  8.6369    True\n",
       "24       5      14    4.7921  0.0000  3.2089  6.3753    True\n",
       "25       5      18    4.7733  0.0000  3.1901  6.3564    True\n",
       "27       7      11    7.0507  0.0000  5.4675  8.6338    True\n",
       "28       7      14    4.7890  0.0000  3.2059  6.3722    True\n",
       "29       7      18    4.7702  0.0000  3.1870  6.3533    True\n",
       "30       9      11    6.9829  0.0000  5.3997  8.5661    True\n",
       "31       9      14    4.7212  0.0000  3.1381  6.3044    True\n",
       "32       9      18    4.7024  0.0000  3.1192  6.2855    True\n",
       "33      11      14   -2.2616  0.0004 -3.8448 -0.6785    True\n",
       "34      11      18   -2.2805  0.0003 -3.8637 -0.6973    True"
      ]
     },
     "execution_count": 80,
     "metadata": {},
     "output_type": "execute_result"
    }
   ],
   "source": [
    "comp = MultiComparison(anova1['Methyl'], anova1['days'])\n",
    "result = comp.tukeyhsd()\n",
    "tukey_df = pd.DataFrame(data=result._results_table.data[1:], columns=result._results_table.data[0])\n",
    "tukey_df.loc[tukey_df['reject'] == True]"
   ]
  },
  {
   "cell_type": "code",
   "execution_count": 90,
   "id": "8828bcdf",
   "metadata": {},
   "outputs": [
    {
     "name": "stdout",
     "output_type": "stream",
     "text": [
      "0-11\t0-14\t0-18\t1-11\t1-14\t1-18\t\n",
      "3-11\t3-14\t3-18\t5-11\t5-14\t\n",
      "5-18\t7-11\t7-14\t7-18\t9-11\t\n",
      "9-14\t9-18\t11-14\t11-18\t\t\n"
     ]
    }
   ],
   "source": [
    "s = ''\n",
    "for idx, row in tukey_df.loc[tukey_df['reject'] == True].iterrows():\n",
    "    s += (str(row['group1']) + '-' + str(row['group2']) + \".\")\n",
    "\n",
    "s = s.split('.')\n",
    "for i in range(len(s)):\n",
    "    print(s[i], end='\\t')\n",
    "    if i > 0 and i % 5 == 0:\n",
    "        print()"
   ]
  },
  {
   "cell_type": "code",
   "execution_count": null,
   "id": "f7dd5ff4",
   "metadata": {},
   "outputs": [],
   "source": [
    "0-3     0-9     0-11    0-14    0-18\n",
    "1-3     1-9     1-11    1-14    1-18\n",
    "3-5     3-9     3-11    3-14    3-18\n",
    "5-9     5-11    5-14    5-18\n",
    "7-9     7-11    7-14    7-18\n",
    "9-11    9-14    9-18"
   ]
  },
  {
   "cell_type": "markdown",
   "id": "0725548d",
   "metadata": {},
   "source": [
    "### 3> "
   ]
  },
  {
   "cell_type": "code",
   "execution_count": null,
   "id": "92da1917",
   "metadata": {},
   "outputs": [],
   "source": [
    "df2_mean_std = []\n",
    "days = df2['days'].unique()\n",
    "for day in df2['day'].unique():\n",
    "    tempdf = pd.DataFrame()\n",
    "    for col in df2.columns:\n",
    "        if col == 'day':\n",
    "            continue\n",
    "        ser = df2.loc[df2['day'] == day, col]\n",
    "        ddf = pd.DataFrame({'mean': [ser.mean()], 'std': [ser.std()]}, index=[col])\n",
    "        tempdf = pd.concat([tempdf, ddf])\n",
    "\n",
    "    df2_mean_std.append(tempdf)\n",
    "\n",
    "display(df2_mean_std[0])\n",
    "display(df2_mean_std[8])"
   ]
  },
  {
   "cell_type": "code",
   "execution_count": null,
   "id": "8c77805a",
   "metadata": {},
   "outputs": [],
   "source": [
    "def VM_meanstd(target, df=df2_mean_std, days=days, draw_errorbar=True):\n",
    "    vm_df = pd.DataFrame()\n",
    "    for i in range(len(df)):\n",
    "        tdf = df[i].loc[[target]]\n",
    "        tdf.index = days[i:i+1]\n",
    "        vm_df = pd.concat([vm_df, tdf.iloc[0:1, :]])\n",
    "    \n",
    "    if draw_errorbar:\n",
    "        plt.errorbar(\n",
    "            vm_df.index, vm_df['mean'], yerr=vm_df['std'],\n",
    "            fmt='o', linestyle='-',\n",
    "            color='dodgerblue', ecolor='gray'\n",
    "        )\n",
    "        plt.title(\"Changes of \" + target + \"(Mean, Std)\")\n",
    "        plt.xlabel('days')\n",
    "        plt.ylabel('Mean')\n",
    "        plt.xticks(days)\n",
    "        # plt.yticks(np.arange(-0.05, 0.26, 0.05))\n",
    "        plt.grid(axis='y')\n",
    "        plt.show()\n",
    "\n",
    "    return vm_df"
   ]
  },
  {
   "cell_type": "code",
   "execution_count": null,
   "id": "2de655e5",
   "metadata": {},
   "outputs": [],
   "source": [
    "three_hydroxybutan_2_one_Acetoin_df = VM_meanstd('3-hydroxybutan-2-one (Acetoin)')"
   ]
  },
  {
   "cell_type": "code",
   "execution_count": null,
   "id": "1f7a1392",
   "metadata": {},
   "outputs": [],
   "source": [
    "def eda_single_numeric(var, df, describe=True):\n",
    "    if describe:\n",
    "        display(df[var].describe().to_frame().T)\n",
    "    \n",
    "    plt.subplot(2,1,1)\n",
    "    sns.histplot(df[var])\n",
    "    \n",
    "    plt.subplot(2,1,2)\n",
    "    sns.boxplot(x=var, data=df)\n",
    "    plt.grid()\n",
    "    plt.tight_layout()\n",
    "    plt.show()"
   ]
  },
  {
   "cell_type": "markdown",
   "id": "7826face",
   "metadata": {},
   "source": [
    "### PLS-DA"
   ]
  },
  {
   "cell_type": "markdown",
   "id": "e54f1ee0",
   "metadata": {},
   "source": [
    "#### 0이 90% 이상인 컬럼 제외한 데이터"
   ]
  },
  {
   "cell_type": "code",
   "execution_count": 4,
   "id": "8d9282fb",
   "metadata": {},
   "outputs": [
    {
     "name": "stdout",
     "output_type": "stream",
     "text": [
      "106\n",
      "['(E)-oct-2-ene', '2-Methylfuran', 'Nonane', '2,5-Dimethylfuran', 'Cyclopentanol']\n"
     ]
    }
   ],
   "source": [
    "data_pls1 = data.copy() # 0이 90% 이상인 컬럼 제거\n",
    "data_pls1 = data_pls1.replace(0, np.nan)\n",
    "drop_cols = []\n",
    "for c in data_pls1.columns:\n",
    "    x = data_pls1[c].isna().sum()\n",
    "    zratio = x / data.shape[0] # 0 개수 / 270\n",
    "    \n",
    "    if zratio >= 0.9:\n",
    "        drop_cols.append(c)\n",
    "\n",
    "print(len(drop_cols))\n",
    "print(drop_cols[:5])"
   ]
  },
  {
   "cell_type": "code",
   "execution_count": 5,
   "id": "cffbbfad",
   "metadata": {},
   "outputs": [
    {
     "data": {
      "text/plain": [
       "(270, 86)"
      ]
     },
     "execution_count": 5,
     "metadata": {},
     "output_type": "execute_result"
    }
   ],
   "source": [
    "data_pls1 = data_pls1.drop(columns=drop_cols, axis=1)\n",
    "data_pls1 = data_pls1.replace(np.nan, 0)\n",
    "data_pls1.shape"
   ]
  },
  {
   "cell_type": "code",
   "execution_count": 6,
   "id": "0d74c6d9",
   "metadata": {},
   "outputs": [],
   "source": [
    "from sklearn.model_selection import train_test_split, cross_val_score, StratifiedKFold\n",
    "from sklearn.preprocessing import StandardScaler\n",
    "from sklearn.cross_decomposition import PLSRegression\n",
    "\n",
    "from sklearn.metrics import confusion_matrix, classification_report, accuracy_score"
   ]
  },
  {
   "cell_type": "code",
   "execution_count": 7,
   "id": "fbfd868d",
   "metadata": {},
   "outputs": [],
   "source": [
    "def my_preprocessing(temp_data, target, random_state_=42):\n",
    "    X = temp_data.drop(columns=target, axis=1)\n",
    "    X = X.replace(np.nan, 0)\n",
    "    Y = temp_data.loc[:, target].astype(int)\n",
    "    Y = pd.get_dummies(Y, dtype=int)\n",
    "\n",
    "    x_train, x_test, y_train, y_test = train_test_split(X, Y, test_size=0.2, random_state=random_state_, stratify=Y)\n",
    "\n",
    "    scaler = StandardScaler()\n",
    "    x_train = scaler.fit_transform(x_train)\n",
    "    x_test = scaler.transform(x_test)\n",
    "\n",
    "    y_test_argmax = y_test.values.argmax(axis=1)\n",
    "\n",
    "    return x_train, x_test, y_train, y_test_argmax, X, Y"
   ]
  },
  {
   "cell_type": "code",
   "execution_count": 8,
   "id": "5eb106bf",
   "metadata": {},
   "outputs": [],
   "source": [
    "def my_PLS_DA(X_train, X_test, Y_train, Y_test, n_components_=2):\n",
    "    pls = PLSRegression(n_components=n_components_)\n",
    "    pls.fit(X_train, Y_train)\n",
    "\n",
    "    y_pred = pls.predict(X_test)\n",
    "    y_pred_flatten = [x.argmax() for x in y_pred]\n",
    "\n",
    "    return pls, y_pred_flatten, Y_test"
   ]
  },
  {
   "cell_type": "code",
   "execution_count": 10,
   "id": "7b1f7bdc",
   "metadata": {},
   "outputs": [],
   "source": [
    "def plsda_result(y_test, y_pred):\n",
    "    print(\"Accuracy :\", np.round(accuracy_score(y_test, y_pred), 4))\n",
    "    print(confusion_matrix(y_test, y_pred))\n",
    "    print(classification_report(y_test, y_pred))"
   ]
  },
  {
   "cell_type": "code",
   "execution_count": null,
   "id": "ef636b0c",
   "metadata": {},
   "outputs": [],
   "source": [
    "# PLS 모델로부터 VIP 점수를 계산하는 함수 정의\n",
    "def calculate_vip(pls_model):\n",
    "    T = pls_model.x_scores_      # X score 행렬 (샘플별 컴포넌트), 샘플 수 x 컴포넌트 수\n",
    "    W = pls_model.x_weights_     # X weight 행렬 (X의 feature가 컴포넌트를 만드는데 기여한 정도) 특성 수 x 컴포넌트 수\n",
    "    Q = pls_model.y_loadings_    # Y 로딩 행렬 (컴포넌트가 Y를 설명하는데 얼마나 기여하는가) Y 변수 수 x 컴포넌트 수\n",
    "\n",
    "    p, h = W.shape                # p: X feature 수, h: 컴포넌트 수\n",
    "\n",
    "    # 컴포넌트별 설명된 분산(SS)을 계산\n",
    "    SS = np.sum((T ** 2) @ (Q.T ** 2), axis=0)\n",
    "\n",
    "    vip_scores = np.zeros(p)     # VIP 점수 저장 배열 초기화\n",
    "    for i in range(p):           # 각 특성에 대해 반복\n",
    "        weight = np.array([(W[i, j] ** 2) / np.sum(W[:, j] ** 2) for j in range(h)])  # 특성별 중요도 비율 계산\n",
    "        vip_scores[i] = np.sqrt(p * np.sum(SS * weight) / np.sum(SS))                 # VIP 점수 계산\n",
    "        \n",
    "    return vip_scores"
   ]
  },
  {
   "cell_type": "code",
   "execution_count": 18,
   "id": "e317031b",
   "metadata": {},
   "outputs": [],
   "source": [
    "T = pls_model1.x_scores_      # X score 행렬 (샘플별 컴포넌트), 샘플 수 x 컴포넌트 수\n",
    "W = pls_model1.x_weights_     # X weight 행렬 (X의 feature가 컴포넌트를 만드는데 기여한 정도) 특성 수 x 컴포넌트 수\n",
    "Q = pls_model1.y_loadings_    # Y 로딩 행렬 (컴포넌트가 Y를 설명하는데 얼마나 기여하는가) Y 변수 수 x 컴포넌트 수\n",
    "\n",
    "p, h = W.shape                # p: X feature 수, h: 컴포넌트 수"
   ]
  },
  {
   "cell_type": "code",
   "execution_count": 46,
   "id": "8f0c01b8",
   "metadata": {},
   "outputs": [
    {
     "data": {
      "text/plain": [
       "'2.0.2'"
      ]
     },
     "execution_count": 46,
     "metadata": {},
     "output_type": "execute_result"
    }
   ],
   "source": [
    "np.__version__"
   ]
  },
  {
   "cell_type": "code",
   "execution_count": 31,
   "id": "199f5e42",
   "metadata": {},
   "outputs": [
    {
     "data": {
      "text/plain": [
       "array([7, 8])"
      ]
     },
     "execution_count": 31,
     "metadata": {},
     "output_type": "execute_result"
    }
   ],
   "source": [
    "a = np.array([[1, 0],\n",
    "              [0, 2],\n",
    "              [1, 1]])\n",
    "b = np.array([[-1, 1],\n",
    "              [3, 2]])\n",
    "\n",
    "np.sum(a @ b, axis=0)"
   ]
  },
  {
   "cell_type": "code",
   "execution_count": 42,
   "id": "7ff8ea5d",
   "metadata": {},
   "outputs": [],
   "source": [
    "vip_scores3 = calculate_vip(pls_model3)\n",
    "# len(vip_scores3)\n",
    "vip_df = pd.DataFrame({\n",
    "    'Feature': x3.columns,\n",
    "    'VIP Score': vip_scores3\n",
    "}).sort_values(by='VIP Score', ascending=False)\n",
    "\n",
    "vip_df.reset_index(drop=True, inplace=True)\n",
    "\n",
    "# 중요한 피처 선택 (VIP Score >= 0.9)\n",
    "important_features = vip_df[vip_df['VIP Score'] >= 0.9]['Feature'].tolist()"
   ]
  },
  {
   "cell_type": "code",
   "execution_count": 45,
   "id": "520e4f75",
   "metadata": {},
   "outputs": [
    {
     "name": "stdout",
     "output_type": "stream",
     "text": [
      "51\n"
     ]
    },
    {
     "data": {
      "text/html": [
       "<div>\n",
       "<style scoped>\n",
       "    .dataframe tbody tr th:only-of-type {\n",
       "        vertical-align: middle;\n",
       "    }\n",
       "\n",
       "    .dataframe tbody tr th {\n",
       "        vertical-align: top;\n",
       "    }\n",
       "\n",
       "    .dataframe thead th {\n",
       "        text-align: right;\n",
       "    }\n",
       "</style>\n",
       "<table border=\"1\" class=\"dataframe\">\n",
       "  <thead>\n",
       "    <tr style=\"text-align: right;\">\n",
       "      <th></th>\n",
       "      <th>Feature</th>\n",
       "      <th>VIP Score</th>\n",
       "    </tr>\n",
       "  </thead>\n",
       "  <tbody>\n",
       "    <tr>\n",
       "      <th>0</th>\n",
       "      <td>Butane-2,3-dione</td>\n",
       "      <td>3.161464</td>\n",
       "    </tr>\n",
       "    <tr>\n",
       "      <th>1</th>\n",
       "      <td>3-hydroxybutan-2-one (Acetoin)</td>\n",
       "      <td>3.122862</td>\n",
       "    </tr>\n",
       "    <tr>\n",
       "      <th>2</th>\n",
       "      <td>2-Phenylethanol</td>\n",
       "      <td>2.569213</td>\n",
       "    </tr>\n",
       "    <tr>\n",
       "      <th>3</th>\n",
       "      <td>Methyl isovalerate</td>\n",
       "      <td>2.515916</td>\n",
       "    </tr>\n",
       "    <tr>\n",
       "      <th>4</th>\n",
       "      <td>2-Methylbutanal</td>\n",
       "      <td>2.454995</td>\n",
       "    </tr>\n",
       "    <tr>\n",
       "      <th>5</th>\n",
       "      <td>3-Methylbutanal</td>\n",
       "      <td>2.352535</td>\n",
       "    </tr>\n",
       "    <tr>\n",
       "      <th>6</th>\n",
       "      <td>3-Methylsulfanylpropan-1-ol (Methionol)</td>\n",
       "      <td>2.337057</td>\n",
       "    </tr>\n",
       "    <tr>\n",
       "      <th>7</th>\n",
       "      <td>Benzeneacetaldehyde</td>\n",
       "      <td>2.322268</td>\n",
       "    </tr>\n",
       "    <tr>\n",
       "      <th>8</th>\n",
       "      <td>Acetic acid</td>\n",
       "      <td>2.305128</td>\n",
       "    </tr>\n",
       "    <tr>\n",
       "      <th>9</th>\n",
       "      <td>Heptane-2,3-dione (Acetyl valeryl)</td>\n",
       "      <td>2.288813</td>\n",
       "    </tr>\n",
       "    <tr>\n",
       "      <th>10</th>\n",
       "      <td>3-Methylbutan-1-ol</td>\n",
       "      <td>2.284373</td>\n",
       "    </tr>\n",
       "    <tr>\n",
       "      <th>11</th>\n",
       "      <td>Butane-2,3-diol (1)</td>\n",
       "      <td>2.250683</td>\n",
       "    </tr>\n",
       "    <tr>\n",
       "      <th>12</th>\n",
       "      <td>2,6-Dimethylheptan-4-ol</td>\n",
       "      <td>2.234115</td>\n",
       "    </tr>\n",
       "    <tr>\n",
       "      <th>13</th>\n",
       "      <td>Methyl 2-methylbutanoate</td>\n",
       "      <td>2.213622</td>\n",
       "    </tr>\n",
       "    <tr>\n",
       "      <th>14</th>\n",
       "      <td>Mentha-1,4,8-triene</td>\n",
       "      <td>2.176770</td>\n",
       "    </tr>\n",
       "    <tr>\n",
       "      <th>15</th>\n",
       "      <td>2-Pentylfuran</td>\n",
       "      <td>2.167851</td>\n",
       "    </tr>\n",
       "    <tr>\n",
       "      <th>16</th>\n",
       "      <td>Isobutyl alcohol</td>\n",
       "      <td>2.122480</td>\n",
       "    </tr>\n",
       "    <tr>\n",
       "      <th>17</th>\n",
       "      <td>1-Octanol</td>\n",
       "      <td>2.030191</td>\n",
       "    </tr>\n",
       "    <tr>\n",
       "      <th>18</th>\n",
       "      <td>Ethyl 2-methylbutanoate</td>\n",
       "      <td>1.896336</td>\n",
       "    </tr>\n",
       "    <tr>\n",
       "      <th>19</th>\n",
       "      <td>2-Methylbutanoic acid</td>\n",
       "      <td>1.823602</td>\n",
       "    </tr>\n",
       "    <tr>\n",
       "      <th>20</th>\n",
       "      <td>Dodecane</td>\n",
       "      <td>1.796324</td>\n",
       "    </tr>\n",
       "    <tr>\n",
       "      <th>21</th>\n",
       "      <td>2-Ethylhexyl 2-thiophen-2-ylacetate</td>\n",
       "      <td>1.736559</td>\n",
       "    </tr>\n",
       "    <tr>\n",
       "      <th>22</th>\n",
       "      <td>2-Ethylhexan-1-ol</td>\n",
       "      <td>1.689528</td>\n",
       "    </tr>\n",
       "    <tr>\n",
       "      <th>23</th>\n",
       "      <td>2,2,3,3,4,4,5,5-Octafluorooctyl pentanoate</td>\n",
       "      <td>1.621098</td>\n",
       "    </tr>\n",
       "    <tr>\n",
       "      <th>24</th>\n",
       "      <td>Furan</td>\n",
       "      <td>1.597884</td>\n",
       "    </tr>\n",
       "    <tr>\n",
       "      <th>25</th>\n",
       "      <td>Propan-2-one</td>\n",
       "      <td>1.552675</td>\n",
       "    </tr>\n",
       "    <tr>\n",
       "      <th>26</th>\n",
       "      <td>1-Undecene</td>\n",
       "      <td>1.535602</td>\n",
       "    </tr>\n",
       "    <tr>\n",
       "      <th>27</th>\n",
       "      <td>Butane-2,3-diol (2)</td>\n",
       "      <td>1.493663</td>\n",
       "    </tr>\n",
       "    <tr>\n",
       "      <th>28</th>\n",
       "      <td>4-Methyloctane</td>\n",
       "      <td>1.467954</td>\n",
       "    </tr>\n",
       "    <tr>\n",
       "      <th>29</th>\n",
       "      <td>4-Methyldecane</td>\n",
       "      <td>1.463019</td>\n",
       "    </tr>\n",
       "    <tr>\n",
       "      <th>30</th>\n",
       "      <td>2,4-Dimethyldodecane</td>\n",
       "      <td>1.454239</td>\n",
       "    </tr>\n",
       "    <tr>\n",
       "      <th>31</th>\n",
       "      <td>Ethanol</td>\n",
       "      <td>1.415001</td>\n",
       "    </tr>\n",
       "    <tr>\n",
       "      <th>32</th>\n",
       "      <td>2,2,4,6,6-Pentamethylheptane</td>\n",
       "      <td>1.368914</td>\n",
       "    </tr>\n",
       "    <tr>\n",
       "      <th>33</th>\n",
       "      <td>Tetradecane</td>\n",
       "      <td>1.364905</td>\n",
       "    </tr>\n",
       "    <tr>\n",
       "      <th>34</th>\n",
       "      <td>Methyl-substituted alkanes 2</td>\n",
       "      <td>1.351612</td>\n",
       "    </tr>\n",
       "    <tr>\n",
       "      <th>35</th>\n",
       "      <td>Pentanal</td>\n",
       "      <td>1.332861</td>\n",
       "    </tr>\n",
       "    <tr>\n",
       "      <th>36</th>\n",
       "      <td>Nonanal</td>\n",
       "      <td>1.212037</td>\n",
       "    </tr>\n",
       "    <tr>\n",
       "      <th>37</th>\n",
       "      <td>3-Methylbutyl 3-methylbutanoate (Isopentyl iso...</td>\n",
       "      <td>1.209062</td>\n",
       "    </tr>\n",
       "    <tr>\n",
       "      <th>38</th>\n",
       "      <td>2-Undecanone</td>\n",
       "      <td>1.185670</td>\n",
       "    </tr>\n",
       "    <tr>\n",
       "      <th>39</th>\n",
       "      <td>Tridecane</td>\n",
       "      <td>1.147200</td>\n",
       "    </tr>\n",
       "    <tr>\n",
       "      <th>40</th>\n",
       "      <td>Methyl hexanoate</td>\n",
       "      <td>1.094015</td>\n",
       "    </tr>\n",
       "    <tr>\n",
       "      <th>41</th>\n",
       "      <td>Isoamyl acetate</td>\n",
       "      <td>1.064739</td>\n",
       "    </tr>\n",
       "    <tr>\n",
       "      <th>42</th>\n",
       "      <td>1-Hexanol</td>\n",
       "      <td>1.045480</td>\n",
       "    </tr>\n",
       "    <tr>\n",
       "      <th>43</th>\n",
       "      <td>5,7-Dimethylundecane</td>\n",
       "      <td>1.035949</td>\n",
       "    </tr>\n",
       "    <tr>\n",
       "      <th>44</th>\n",
       "      <td>Decane</td>\n",
       "      <td>1.020118</td>\n",
       "    </tr>\n",
       "    <tr>\n",
       "      <th>45</th>\n",
       "      <td>(6S)-6-methyloctan-1-ol</td>\n",
       "      <td>1.010084</td>\n",
       "    </tr>\n",
       "    <tr>\n",
       "      <th>46</th>\n",
       "      <td>2-Methylheptane</td>\n",
       "      <td>0.988800</td>\n",
       "    </tr>\n",
       "    <tr>\n",
       "      <th>47</th>\n",
       "      <td>3,7-dimethylocta-1,6-dien-3-yl 2-methylpropano...</td>\n",
       "      <td>0.961831</td>\n",
       "    </tr>\n",
       "    <tr>\n",
       "      <th>48</th>\n",
       "      <td>4,6-dimethyldodecane</td>\n",
       "      <td>0.946594</td>\n",
       "    </tr>\n",
       "    <tr>\n",
       "      <th>49</th>\n",
       "      <td>2-Furancarboxaldehyde</td>\n",
       "      <td>0.942745</td>\n",
       "    </tr>\n",
       "    <tr>\n",
       "      <th>50</th>\n",
       "      <td>2-Ethylbutanoic acid</td>\n",
       "      <td>0.906019</td>\n",
       "    </tr>\n",
       "  </tbody>\n",
       "</table>\n",
       "</div>"
      ],
      "text/plain": [
       "                                              Feature  VIP Score\n",
       "0                                    Butane-2,3-dione   3.161464\n",
       "1                      3-hydroxybutan-2-one (Acetoin)   3.122862\n",
       "2                                     2-Phenylethanol   2.569213\n",
       "3                                  Methyl isovalerate   2.515916\n",
       "4                                     2-Methylbutanal   2.454995\n",
       "5                                     3-Methylbutanal   2.352535\n",
       "6             3-Methylsulfanylpropan-1-ol (Methionol)   2.337057\n",
       "7                                 Benzeneacetaldehyde   2.322268\n",
       "8                                         Acetic acid   2.305128\n",
       "9                  Heptane-2,3-dione (Acetyl valeryl)   2.288813\n",
       "10                                 3-Methylbutan-1-ol   2.284373\n",
       "11                                Butane-2,3-diol (1)   2.250683\n",
       "12                            2,6-Dimethylheptan-4-ol   2.234115\n",
       "13                           Methyl 2-methylbutanoate   2.213622\n",
       "14                                Mentha-1,4,8-triene   2.176770\n",
       "15                                      2-Pentylfuran   2.167851\n",
       "16                                   Isobutyl alcohol   2.122480\n",
       "17                                          1-Octanol   2.030191\n",
       "18                            Ethyl 2-methylbutanoate   1.896336\n",
       "19                              2-Methylbutanoic acid   1.823602\n",
       "20                                           Dodecane   1.796324\n",
       "21                2-Ethylhexyl 2-thiophen-2-ylacetate   1.736559\n",
       "22                                  2-Ethylhexan-1-ol   1.689528\n",
       "23         2,2,3,3,4,4,5,5-Octafluorooctyl pentanoate   1.621098\n",
       "24                                              Furan   1.597884\n",
       "25                                       Propan-2-one   1.552675\n",
       "26                                         1-Undecene   1.535602\n",
       "27                                Butane-2,3-diol (2)   1.493663\n",
       "28                                     4-Methyloctane   1.467954\n",
       "29                                     4-Methyldecane   1.463019\n",
       "30                               2,4-Dimethyldodecane   1.454239\n",
       "31                                            Ethanol   1.415001\n",
       "32                       2,2,4,6,6-Pentamethylheptane   1.368914\n",
       "33                                        Tetradecane   1.364905\n",
       "34                       Methyl-substituted alkanes 2   1.351612\n",
       "35                                           Pentanal   1.332861\n",
       "36                                            Nonanal   1.212037\n",
       "37  3-Methylbutyl 3-methylbutanoate (Isopentyl iso...   1.209062\n",
       "38                                       2-Undecanone   1.185670\n",
       "39                                          Tridecane   1.147200\n",
       "40                                   Methyl hexanoate   1.094015\n",
       "41                                    Isoamyl acetate   1.064739\n",
       "42                                          1-Hexanol   1.045480\n",
       "43                               5,7-Dimethylundecane   1.035949\n",
       "44                                             Decane   1.020118\n",
       "45                            (6S)-6-methyloctan-1-ol   1.010084\n",
       "46                                    2-Methylheptane   0.988800\n",
       "47  3,7-dimethylocta-1,6-dien-3-yl 2-methylpropano...   0.961831\n",
       "48                               4,6-dimethyldodecane   0.946594\n",
       "49                              2-Furancarboxaldehyde   0.942745\n",
       "50                               2-Ethylbutanoic acid   0.906019"
      ]
     },
     "execution_count": 45,
     "metadata": {},
     "output_type": "execute_result"
    }
   ],
   "source": [
    "print(len(vip_df.loc[vip_df['VIP Score'] >= 0.9]))\n",
    "vip_df.loc[vip_df['VIP Score'] >= 0.9]"
   ]
  },
  {
   "cell_type": "code",
   "execution_count": 32,
   "id": "f4be9833",
   "metadata": {},
   "outputs": [],
   "source": [
    "# pls_model, y_pred, y_test_am = my_PLS_DA(*my_preprocessing(tdata2, 'days'))\n",
    "x_train, x_test, y_train, y_test, x1, y1, = my_preprocessing(data_pls1, 'days')\n",
    "pls_model1, y_pred, y_test_am = my_PLS_DA(x_train, x_test, y_train, y_test)"
   ]
  },
  {
   "cell_type": "code",
   "execution_count": 33,
   "id": "f8a0cc01",
   "metadata": {},
   "outputs": [
    {
     "name": "stdout",
     "output_type": "stream",
     "text": [
      "Accuracy : 0.3889\n",
      "[[0 5 0 0 1 0 0 0 0]\n",
      " [0 6 0 0 0 0 0 0 0]\n",
      " [0 2 0 0 4 0 0 0 0]\n",
      " [0 3 0 0 1 0 0 2 0]\n",
      " [0 3 0 0 3 0 0 0 0]\n",
      " [0 1 0 0 4 0 0 1 0]\n",
      " [0 0 0 0 0 0 6 0 0]\n",
      " [0 0 0 0 0 0 0 6 0]\n",
      " [0 0 0 0 0 0 0 6 0]]\n",
      "              precision    recall  f1-score   support\n",
      "\n",
      "           0       0.00      0.00      0.00         6\n",
      "           1       0.30      1.00      0.46         6\n",
      "           2       0.00      0.00      0.00         6\n",
      "           3       0.00      0.00      0.00         6\n",
      "           4       0.23      0.50      0.32         6\n",
      "           5       0.00      0.00      0.00         6\n",
      "           6       1.00      1.00      1.00         6\n",
      "           7       0.40      1.00      0.57         6\n",
      "           8       0.00      0.00      0.00         6\n",
      "\n",
      "    accuracy                           0.39        54\n",
      "   macro avg       0.21      0.39      0.26        54\n",
      "weighted avg       0.21      0.39      0.26        54\n",
      "\n"
     ]
    },
    {
     "name": "stderr",
     "output_type": "stream",
     "text": [
      "c:\\ProgramData\\Anaconda3\\lib\\site-packages\\sklearn\\metrics\\_classification.py:1565: UndefinedMetricWarning: Precision is ill-defined and being set to 0.0 in labels with no predicted samples. Use `zero_division` parameter to control this behavior.\n",
      "  _warn_prf(average, modifier, f\"{metric.capitalize()} is\", len(result))\n",
      "c:\\ProgramData\\Anaconda3\\lib\\site-packages\\sklearn\\metrics\\_classification.py:1565: UndefinedMetricWarning: Precision is ill-defined and being set to 0.0 in labels with no predicted samples. Use `zero_division` parameter to control this behavior.\n",
      "  _warn_prf(average, modifier, f\"{metric.capitalize()} is\", len(result))\n",
      "c:\\ProgramData\\Anaconda3\\lib\\site-packages\\sklearn\\metrics\\_classification.py:1565: UndefinedMetricWarning: Precision is ill-defined and being set to 0.0 in labels with no predicted samples. Use `zero_division` parameter to control this behavior.\n",
      "  _warn_prf(average, modifier, f\"{metric.capitalize()} is\", len(result))\n"
     ]
    }
   ],
   "source": [
    "plsda_result(y_test_am, y_pred)"
   ]
  },
  {
   "cell_type": "code",
   "execution_count": 12,
   "id": "4f75fb15",
   "metadata": {},
   "outputs": [
    {
     "name": "stdout",
     "output_type": "stream",
     "text": [
      "평균 CV accuracy: 0.69\n",
      "개별 CV accuracy: [0.7254 0.7019 0.5792 0.7267 0.7166]\n"
     ]
    }
   ],
   "source": [
    "cv = StratifiedKFold(n_splits=5, shuffle=True)\n",
    "scores = cross_val_score(pls_model1, x1, y1.values.argmax(axis=1), cv=cv)\n",
    "print(\"평균 CV accuracy:\", np.round(np.mean(scores), 4))\n",
    "print(\"개별 CV accuracy:\", np.round(scores, 4))"
   ]
  },
  {
   "cell_type": "code",
   "execution_count": 16,
   "id": "3fecd27f",
   "metadata": {},
   "outputs": [
    {
     "data": {
      "text/plain": [
       "(85, 2)"
      ]
     },
     "execution_count": 16,
     "metadata": {},
     "output_type": "execute_result"
    }
   ],
   "source": [
    "pls_model1.x_weights_.shape"
   ]
  },
  {
   "cell_type": "markdown",
   "id": "6a0846b6",
   "metadata": {},
   "source": [
    "#### 전체 데이터 (191 features)"
   ]
  },
  {
   "cell_type": "code",
   "execution_count": 127,
   "id": "d13dfe76",
   "metadata": {},
   "outputs": [],
   "source": [
    "data_pls2 = data.copy()"
   ]
  },
  {
   "cell_type": "code",
   "execution_count": 128,
   "id": "d03b8095",
   "metadata": {},
   "outputs": [],
   "source": [
    "x_train, x_test, y_train, y_test, x2, y2, = my_preprocessing(data_pls2, 'days')\n",
    "pls_model2, y_pred, y_test_am = my_PLS_DA(x_train, x_test, y_train, y_test)"
   ]
  },
  {
   "cell_type": "code",
   "execution_count": 129,
   "id": "4be21281",
   "metadata": {},
   "outputs": [
    {
     "name": "stdout",
     "output_type": "stream",
     "text": [
      "Accuracy : 0.3704\n",
      "[[2 0 4 0 0 0 0 0 0]\n",
      " [2 0 4 0 0 0 0 0 0]\n",
      " [1 0 1 0 1 2 1 0 0]\n",
      " [1 0 3 0 0 0 0 2 0]\n",
      " [3 0 0 0 1 2 0 0 0]\n",
      " [1 0 1 0 0 4 0 0 0]\n",
      " [0 0 0 0 0 0 6 0 0]\n",
      " [0 0 0 0 0 0 0 6 0]\n",
      " [0 0 0 0 0 0 0 6 0]]\n",
      "              precision    recall  f1-score   support\n",
      "\n",
      "           0       0.20      0.33      0.25         6\n",
      "           1       0.00      0.00      0.00         6\n",
      "           2       0.08      0.17      0.11         6\n",
      "           3       0.00      0.00      0.00         6\n",
      "           4       0.50      0.17      0.25         6\n",
      "           5       0.50      0.67      0.57         6\n",
      "           6       0.86      1.00      0.92         6\n",
      "           7       0.43      1.00      0.60         6\n",
      "           8       0.00      0.00      0.00         6\n",
      "\n",
      "    accuracy                           0.37        54\n",
      "   macro avg       0.28      0.37      0.30        54\n",
      "weighted avg       0.28      0.37      0.30        54\n",
      "\n"
     ]
    },
    {
     "name": "stderr",
     "output_type": "stream",
     "text": [
      "c:\\ProgramData\\Anaconda3\\lib\\site-packages\\sklearn\\metrics\\_classification.py:1565: UndefinedMetricWarning: Precision is ill-defined and being set to 0.0 in labels with no predicted samples. Use `zero_division` parameter to control this behavior.\n",
      "  _warn_prf(average, modifier, f\"{metric.capitalize()} is\", len(result))\n",
      "c:\\ProgramData\\Anaconda3\\lib\\site-packages\\sklearn\\metrics\\_classification.py:1565: UndefinedMetricWarning: Precision is ill-defined and being set to 0.0 in labels with no predicted samples. Use `zero_division` parameter to control this behavior.\n",
      "  _warn_prf(average, modifier, f\"{metric.capitalize()} is\", len(result))\n",
      "c:\\ProgramData\\Anaconda3\\lib\\site-packages\\sklearn\\metrics\\_classification.py:1565: UndefinedMetricWarning: Precision is ill-defined and being set to 0.0 in labels with no predicted samples. Use `zero_division` parameter to control this behavior.\n",
      "  _warn_prf(average, modifier, f\"{metric.capitalize()} is\", len(result))\n"
     ]
    }
   ],
   "source": [
    "plsda_result(y_test_am, y_pred)"
   ]
  },
  {
   "cell_type": "code",
   "execution_count": 130,
   "id": "197d3095",
   "metadata": {},
   "outputs": [
    {
     "name": "stdout",
     "output_type": "stream",
     "text": [
      "평균 CV accuracy: 0.6726\n",
      "개별 CV accuracy: [0.7897 0.7358 0.4325 0.6589 0.746 ]\n"
     ]
    }
   ],
   "source": [
    "cv = StratifiedKFold(n_splits=5, shuffle=True)\n",
    "scores = cross_val_score(pls_model2, x2, y2.values.argmax(axis=1), cv=cv)\n",
    "print(\"평균 CV accuracy:\", np.round(np.mean(scores), 4))\n",
    "print(\"개별 CV accuracy:\", np.round(scores, 4))"
   ]
  },
  {
   "cell_type": "markdown",
   "id": "1e49c9c0",
   "metadata": {},
   "source": [
    "#### 0-9일차 vs 11-18일차"
   ]
  },
  {
   "cell_type": "code",
   "execution_count": 35,
   "id": "08b5b0d6",
   "metadata": {},
   "outputs": [
    {
     "data": {
      "text/plain": [
       "new_group1\n",
       "0    180\n",
       "1     90\n",
       "Name: count, dtype: int64"
      ]
     },
     "execution_count": 35,
     "metadata": {},
     "output_type": "execute_result"
    }
   ],
   "source": [
    "data_pls3 = data.copy()\n",
    "data_pls3['new_group1'] = np.where(data_pls3['days'] < 10, 0, 1)\n",
    "data_pls3 = data_pls3.drop(columns=['days'], axis=1)\n",
    "data_pls3['new_group1'].value_counts()"
   ]
  },
  {
   "cell_type": "code",
   "execution_count": 36,
   "id": "e5e5de2d",
   "metadata": {},
   "outputs": [
    {
     "name": "stdout",
     "output_type": "stream",
     "text": [
      "Accuracy : 1.0\n",
      "[[36  0]\n",
      " [ 0 18]]\n",
      "              precision    recall  f1-score   support\n",
      "\n",
      "           0       1.00      1.00      1.00        36\n",
      "           1       1.00      1.00      1.00        18\n",
      "\n",
      "    accuracy                           1.00        54\n",
      "   macro avg       1.00      1.00      1.00        54\n",
      "weighted avg       1.00      1.00      1.00        54\n",
      "\n"
     ]
    }
   ],
   "source": [
    "x_train, x_test, y_train, y_test, x3, y3 = my_preprocessing(data_pls3, 'new_group1')\n",
    "pls_model3, y_pred, y_test_am = my_PLS_DA(x_train, x_test, y_train, y_test)\n",
    "\n",
    "plsda_result(y_test_am, y_pred)"
   ]
  },
  {
   "cell_type": "code",
   "execution_count": 37,
   "id": "775257ab",
   "metadata": {},
   "outputs": [
    {
     "name": "stdout",
     "output_type": "stream",
     "text": [
      "평균 CV accuracy: 0.7824\n",
      "개별 CV accuracy: [0.7823 0.834  0.6292 0.8576 0.8089]\n"
     ]
    }
   ],
   "source": [
    "cv = StratifiedKFold(n_splits=5, shuffle=True)\n",
    "scores = cross_val_score(pls_model3, x3, y3.values.argmax(axis=1), cv=cv)\n",
    "print(\"평균 CV accuracy:\", np.round(np.mean(scores), 4))\n",
    "print(\"개별 CV accuracy:\", np.round(scores, 4))"
   ]
  },
  {
   "cell_type": "markdown",
   "id": "8526eaca",
   "metadata": {},
   "source": [
    "#### 0-5일차 vs 7-9일차 vs 11-18일차"
   ]
  },
  {
   "cell_type": "code",
   "execution_count": 141,
   "id": "25054106",
   "metadata": {},
   "outputs": [
    {
     "data": {
      "text/plain": [
       "new_group2\n",
       "0    120\n",
       "1     60\n",
       "2     90\n",
       "Name: count, dtype: int64"
      ]
     },
     "execution_count": 141,
     "metadata": {},
     "output_type": "execute_result"
    }
   ],
   "source": [
    "data_pls4 = data.copy()\n",
    "data_pls4.loc[data_pls4['days'] < 6, 'new_group2'] = 0\n",
    "data_pls4.loc[(data_pls4['days'] > 6) & (data_pls4['days'] < 10), 'new_group2'] = 1\n",
    "data_pls4.loc[data_pls4['days'] > 10, 'new_group2'] = 2\n",
    "data_pls4 = data_pls4.drop(columns=['days'], axis=1)\n",
    "data_pls4['new_group2'] = data_pls4['new_group2'].astype(int)\n",
    "data_pls4['new_group2'].value_counts().sort_index()"
   ]
  },
  {
   "cell_type": "code",
   "execution_count": 142,
   "id": "854d5400",
   "metadata": {},
   "outputs": [
    {
     "name": "stdout",
     "output_type": "stream",
     "text": [
      "Accuracy : 0.963\n",
      "[[22  2  0]\n",
      " [ 0 12  0]\n",
      " [ 0  0 18]]\n",
      "              precision    recall  f1-score   support\n",
      "\n",
      "           0       1.00      0.92      0.96        24\n",
      "           1       0.86      1.00      0.92        12\n",
      "           2       1.00      1.00      1.00        18\n",
      "\n",
      "    accuracy                           0.96        54\n",
      "   macro avg       0.95      0.97      0.96        54\n",
      "weighted avg       0.97      0.96      0.96        54\n",
      "\n"
     ]
    }
   ],
   "source": [
    "x_train, x_test, y_train, y_test, x4, y4 = my_preprocessing(data_pls4, 'new_group2')\n",
    "pls_model4, y_pred, y_test_am = my_PLS_DA(x_train, x_test, y_train, y_test)\n",
    "\n",
    "plsda_result(y_test_am, y_pred)"
   ]
  },
  {
   "cell_type": "code",
   "execution_count": 143,
   "id": "b28f102c",
   "metadata": {},
   "outputs": [
    {
     "name": "stdout",
     "output_type": "stream",
     "text": [
      "평균 CV accuracy: 0.723\n",
      "개별 CV accuracy: [0.7319 0.758  0.8341 0.7402 0.551 ]\n"
     ]
    }
   ],
   "source": [
    "cv = StratifiedKFold(n_splits=5, shuffle=True)\n",
    "scores = cross_val_score(pls_model4, x4, y4.values.argmax(axis=1), cv=cv)\n",
    "print(\"평균 CV accuracy:\", np.round(np.mean(scores), 4))\n",
    "print(\"개별 CV accuracy:\", np.round(scores, 4))"
   ]
  },
  {
   "cell_type": "code",
   "execution_count": null,
   "id": "350f174a",
   "metadata": {},
   "outputs": [],
   "source": []
  },
  {
   "cell_type": "markdown",
   "id": "92abdac1",
   "metadata": {},
   "source": []
  }
 ],
 "metadata": {
  "kernelspec": {
   "display_name": "base",
   "language": "python",
   "name": "python3"
  },
  "language_info": {
   "codemirror_mode": {
    "name": "ipython",
    "version": 3
   },
   "file_extension": ".py",
   "mimetype": "text/x-python",
   "name": "python",
   "nbconvert_exporter": "python",
   "pygments_lexer": "ipython3",
   "version": "3.9.21"
  }
 },
 "nbformat": 4,
 "nbformat_minor": 5
}
