{
 "cells": [
  {
   "cell_type": "markdown",
   "id": "2a4d5a3a",
   "metadata": {},
   "source": [
    "## 향미방"
   ]
  },
  {
   "cell_type": "markdown",
   "id": "1406d1ad",
   "metadata": {},
   "source": [
    "### 1> 데이터 확인"
   ]
  },
  {
   "cell_type": "code",
   "execution_count": 1,
   "id": "ff93db1b",
   "metadata": {},
   "outputs": [],
   "source": [
    "import pandas as pd\n",
    "import numpy as np\n",
    "import scipy.stats as spst\n",
    "\n",
    "import matplotlib.pyplot as plt\n",
    "import seaborn as sns"
   ]
  },
  {
   "cell_type": "code",
   "execution_count": null,
   "id": "1825e69b",
   "metadata": {},
   "outputs": [
    {
     "data": {
      "text/html": [
       "<div>\n",
       "<style scoped>\n",
       "    .dataframe tbody tr th:only-of-type {\n",
       "        vertical-align: middle;\n",
       "    }\n",
       "\n",
       "    .dataframe tbody tr th {\n",
       "        vertical-align: top;\n",
       "    }\n",
       "\n",
       "    .dataframe thead th {\n",
       "        text-align: right;\n",
       "    }\n",
       "</style>\n",
       "<table border=\"1\" class=\"dataframe\">\n",
       "  <thead>\n",
       "    <tr style=\"text-align: right;\">\n",
       "      <th>Compounds</th>\n",
       "      <th>Carbon disulfide</th>\n",
       "      <th>Methylsulfanylmethane (Dimethyl sulfide)</th>\n",
       "      <th>2-Methylheptane</th>\n",
       "      <th>Furan</th>\n",
       "      <th>Propan-2-one</th>\n",
       "      <th>4-Methyloctane</th>\n",
       "      <th>(E)-oct-2-ene</th>\n",
       "      <th>2-Methylfuran</th>\n",
       "      <th>Butan-2-one</th>\n",
       "      <th>Nonane</th>\n",
       "      <th>...</th>\n",
       "      <th>Undecan-4-ylbenzene (4-Phenylundecane)</th>\n",
       "      <th>Phenylmethanol</th>\n",
       "      <th>(1-hydroxy-2,4,4-trimethylpentan-3-yl) 2-methylpropanoate</th>\n",
       "      <th>Methylsulfonylmethane (Dimethyl sulfone)</th>\n",
       "      <th>Dodecan-3-ylbenzene (3-Phenyldodecane)</th>\n",
       "      <th>2-Phenylethanol</th>\n",
       "      <th>2-Phenylacetonitrile</th>\n",
       "      <th>1,4-Butanediol</th>\n",
       "      <th>Benzeneacetonitrile</th>\n",
       "      <th>Nonadecane</th>\n",
       "    </tr>\n",
       "  </thead>\n",
       "  <tbody>\n",
       "    <tr>\n",
       "      <th>0_1</th>\n",
       "      <td>0.130670</td>\n",
       "      <td>0.0</td>\n",
       "      <td>0.000000</td>\n",
       "      <td>0.0</td>\n",
       "      <td>1.435842</td>\n",
       "      <td>0.517948</td>\n",
       "      <td>0.0</td>\n",
       "      <td>0.0</td>\n",
       "      <td>0.175037</td>\n",
       "      <td>0.0</td>\n",
       "      <td>...</td>\n",
       "      <td>0.0</td>\n",
       "      <td>0.0</td>\n",
       "      <td>0.0</td>\n",
       "      <td>0.324772</td>\n",
       "      <td>0.0</td>\n",
       "      <td>0.000000</td>\n",
       "      <td>0.03144</td>\n",
       "      <td>0.0</td>\n",
       "      <td>0.0</td>\n",
       "      <td>0.0</td>\n",
       "    </tr>\n",
       "    <tr>\n",
       "      <th>0_2</th>\n",
       "      <td>0.167196</td>\n",
       "      <td>0.0</td>\n",
       "      <td>0.027512</td>\n",
       "      <td>0.0</td>\n",
       "      <td>0.952583</td>\n",
       "      <td>0.000000</td>\n",
       "      <td>0.0</td>\n",
       "      <td>0.0</td>\n",
       "      <td>0.332735</td>\n",
       "      <td>0.0</td>\n",
       "      <td>...</td>\n",
       "      <td>0.0</td>\n",
       "      <td>0.0</td>\n",
       "      <td>0.0</td>\n",
       "      <td>0.004501</td>\n",
       "      <td>0.0</td>\n",
       "      <td>0.005626</td>\n",
       "      <td>0.00000</td>\n",
       "      <td>0.0</td>\n",
       "      <td>0.0</td>\n",
       "      <td>0.0</td>\n",
       "    </tr>\n",
       "  </tbody>\n",
       "</table>\n",
       "<p>2 rows × 191 columns</p>\n",
       "</div>"
      ],
      "text/plain": [
       "Compounds  Carbon disulfide  Methylsulfanylmethane (Dimethyl sulfide)   \\\n",
       "0_1                0.130670                                        0.0   \n",
       "0_2                0.167196                                        0.0   \n",
       "\n",
       "Compounds  2-Methylheptane  Furan  Propan-2-one  4-Methyloctane    \\\n",
       "0_1               0.000000    0.0      1.435842          0.517948   \n",
       "0_2               0.027512    0.0      0.952583          0.000000   \n",
       "\n",
       "Compounds  (E)-oct-2-ene  2-Methylfuran  Butan-2-one    Nonane  ...  \\\n",
       "0_1                  0.0            0.0       0.175037     0.0  ...   \n",
       "0_2                  0.0            0.0       0.332735     0.0  ...   \n",
       "\n",
       "Compounds  Undecan-4-ylbenzene (4-Phenylundecane)  Phenylmethanol  \\\n",
       "0_1                                           0.0             0.0   \n",
       "0_2                                           0.0             0.0   \n",
       "\n",
       "Compounds  (1-hydroxy-2,4,4-trimethylpentan-3-yl) 2-methylpropanoate    \\\n",
       "0_1                                                      0.0             \n",
       "0_2                                                      0.0             \n",
       "\n",
       "Compounds  Methylsulfonylmethane (Dimethyl sulfone)  \\\n",
       "0_1                                        0.324772   \n",
       "0_2                                        0.004501   \n",
       "\n",
       "Compounds  Dodecan-3-ylbenzene (3-Phenyldodecane)   2-Phenylethanol    \\\n",
       "0_1                                            0.0           0.000000   \n",
       "0_2                                            0.0           0.005626   \n",
       "\n",
       "Compounds  2-Phenylacetonitrile  1,4-Butanediol  Benzeneacetonitrile  \\\n",
       "0_1                     0.03144             0.0                  0.0   \n",
       "0_2                     0.00000             0.0                  0.0   \n",
       "\n",
       "Compounds  Nonadecane  \n",
       "0_1               0.0  \n",
       "0_2               0.0  \n",
       "\n",
       "[2 rows x 191 columns]"
      ]
     },
     "execution_count": 3,
     "metadata": {},
     "output_type": "execute_result"
    }
   ],
   "source": [
    "# raw_data = pd.read_excel('./data/raw_data/(Metabolite)GC-Volatile_250529.xlsx', sheet_name='RAW_DATA', index_col=0).T\n",
    "# raw_data.head(2)"
   ]
  },
  {
   "cell_type": "code",
   "execution_count": 2,
   "id": "55f0473d",
   "metadata": {},
   "outputs": [
    {
     "data": {
      "text/html": [
       "<div>\n",
       "<style scoped>\n",
       "    .dataframe tbody tr th:only-of-type {\n",
       "        vertical-align: middle;\n",
       "    }\n",
       "\n",
       "    .dataframe tbody tr th {\n",
       "        vertical-align: top;\n",
       "    }\n",
       "\n",
       "    .dataframe thead th {\n",
       "        text-align: right;\n",
       "    }\n",
       "</style>\n",
       "<table border=\"1\" class=\"dataframe\">\n",
       "  <thead>\n",
       "    <tr style=\"text-align: right;\">\n",
       "      <th></th>\n",
       "      <th>Carbon disulfide</th>\n",
       "      <th>Methylsulfanylmethane (Dimethyl sulfide)</th>\n",
       "      <th>2-Methylheptane</th>\n",
       "      <th>Furan</th>\n",
       "      <th>Propan-2-one</th>\n",
       "      <th>4-Methyloctane</th>\n",
       "      <th>(E)-oct-2-ene</th>\n",
       "      <th>2-Methylfuran</th>\n",
       "      <th>Butan-2-one</th>\n",
       "      <th>Nonane</th>\n",
       "      <th>...</th>\n",
       "      <th>Undecan-4-ylbenzene (4-Phenylundecane)</th>\n",
       "      <th>Phenylmethanol</th>\n",
       "      <th>(1-hydroxy-2,4,4-trimethylpentan-3-yl) 2-methylpropanoate</th>\n",
       "      <th>Methylsulfonylmethane (Dimethyl sulfone)</th>\n",
       "      <th>Dodecan-3-ylbenzene (3-Phenyldodecane)</th>\n",
       "      <th>2-Phenylethanol</th>\n",
       "      <th>2-Phenylacetonitrile</th>\n",
       "      <th>1,4-Butanediol</th>\n",
       "      <th>Benzeneacetonitrile</th>\n",
       "      <th>Nonadecane</th>\n",
       "    </tr>\n",
       "  </thead>\n",
       "  <tbody>\n",
       "    <tr>\n",
       "      <th>A0-1</th>\n",
       "      <td>0.130670</td>\n",
       "      <td>0.0</td>\n",
       "      <td>0.000000</td>\n",
       "      <td>0.0</td>\n",
       "      <td>1.435842</td>\n",
       "      <td>0.517948</td>\n",
       "      <td>0.0</td>\n",
       "      <td>0.0</td>\n",
       "      <td>0.175037</td>\n",
       "      <td>0.0</td>\n",
       "      <td>...</td>\n",
       "      <td>0.0</td>\n",
       "      <td>0.0</td>\n",
       "      <td>0.0</td>\n",
       "      <td>0.324772</td>\n",
       "      <td>0.0</td>\n",
       "      <td>0.000000</td>\n",
       "      <td>0.03144</td>\n",
       "      <td>0.0</td>\n",
       "      <td>0.0</td>\n",
       "      <td>0.0</td>\n",
       "    </tr>\n",
       "    <tr>\n",
       "      <th>A0-2</th>\n",
       "      <td>0.167196</td>\n",
       "      <td>0.0</td>\n",
       "      <td>0.027512</td>\n",
       "      <td>0.0</td>\n",
       "      <td>0.952583</td>\n",
       "      <td>0.000000</td>\n",
       "      <td>0.0</td>\n",
       "      <td>0.0</td>\n",
       "      <td>0.332735</td>\n",
       "      <td>0.0</td>\n",
       "      <td>...</td>\n",
       "      <td>0.0</td>\n",
       "      <td>0.0</td>\n",
       "      <td>0.0</td>\n",
       "      <td>0.004501</td>\n",
       "      <td>0.0</td>\n",
       "      <td>0.005626</td>\n",
       "      <td>0.00000</td>\n",
       "      <td>0.0</td>\n",
       "      <td>0.0</td>\n",
       "      <td>0.0</td>\n",
       "    </tr>\n",
       "  </tbody>\n",
       "</table>\n",
       "<p>2 rows × 191 columns</p>\n",
       "</div>"
      ],
      "text/plain": [
       "      Carbon disulfide  Methylsulfanylmethane (Dimethyl sulfide)  \\\n",
       "A0-1          0.130670                                       0.0   \n",
       "A0-2          0.167196                                       0.0   \n",
       "\n",
       "      2-Methylheptane  Furan  Propan-2-one  4-Methyloctane  (E)-oct-2-ene  \\\n",
       "A0-1         0.000000    0.0      1.435842        0.517948            0.0   \n",
       "A0-2         0.027512    0.0      0.952583        0.000000            0.0   \n",
       "\n",
       "      2-Methylfuran  Butan-2-one  Nonane  ...  \\\n",
       "A0-1            0.0     0.175037     0.0  ...   \n",
       "A0-2            0.0     0.332735     0.0  ...   \n",
       "\n",
       "      Undecan-4-ylbenzene (4-Phenylundecane)  Phenylmethanol  \\\n",
       "A0-1                                     0.0             0.0   \n",
       "A0-2                                     0.0             0.0   \n",
       "\n",
       "      (1-hydroxy-2,4,4-trimethylpentan-3-yl) 2-methylpropanoate  \\\n",
       "A0-1                                                0.0           \n",
       "A0-2                                                0.0           \n",
       "\n",
       "      Methylsulfonylmethane (Dimethyl sulfone)  \\\n",
       "A0-1                                  0.324772   \n",
       "A0-2                                  0.004501   \n",
       "\n",
       "      Dodecan-3-ylbenzene (3-Phenyldodecane)  2-Phenylethanol  \\\n",
       "A0-1                                     0.0         0.000000   \n",
       "A0-2                                     0.0         0.005626   \n",
       "\n",
       "      2-Phenylacetonitrile  1,4-Butanediol  Benzeneacetonitrile  Nonadecane  \n",
       "A0-1               0.03144             0.0                  0.0         0.0  \n",
       "A0-2               0.00000             0.0                  0.0         0.0  \n",
       "\n",
       "[2 rows x 191 columns]"
      ]
     },
     "execution_count": 2,
     "metadata": {},
     "output_type": "execute_result"
    }
   ],
   "source": [
    "data = pd.read_excel('./data/GC_Volatile_data.xlsx', index_col=0)\n",
    "data.head(2)"
   ]
  },
  {
   "cell_type": "markdown",
   "id": "c416171f",
   "metadata": {},
   "source": [
    "#### 1-1> 데이터 확인"
   ]
  },
  {
   "cell_type": "code",
   "execution_count": 5,
   "id": "110f5c01",
   "metadata": {},
   "outputs": [
    {
     "name": "stdout",
     "output_type": "stream",
     "text": [
      "(270, 191)\n",
      "Index(['Carbon disulfide', 'Methylsulfanylmethane (Dimethyl sulfide) ',\n",
      "       '2-Methylheptane', 'Furan', 'Propan-2-one', '4-Methyloctane  ',\n",
      "       '(E)-oct-2-ene', '2-Methylfuran', 'Butan-2-one  ', 'Nonane',\n",
      "       ...\n",
      "       'Undecan-4-ylbenzene (4-Phenylundecane)', 'Phenylmethanol',\n",
      "       '(1-hydroxy-2,4,4-trimethylpentan-3-yl) 2-methylpropanoate  ',\n",
      "       'Methylsulfonylmethane (Dimethyl sulfone)',\n",
      "       'Dodecan-3-ylbenzene (3-Phenyldodecane) ', '2-Phenylethanol  ',\n",
      "       '2-Phenylacetonitrile', '1,4-Butanediol', 'Benzeneacetonitrile',\n",
      "       'Nonadecane'],\n",
      "      dtype='object', name='Compounds', length=191)\n"
     ]
    }
   ],
   "source": [
    "print(raw_data.shape)\n",
    "print(raw_data.columns)"
   ]
  },
  {
   "cell_type": "code",
   "execution_count": 8,
   "id": "d7fd4f68",
   "metadata": {},
   "outputs": [
    {
     "name": "stdout",
     "output_type": "stream",
     "text": [
      "39144 0.759\n"
     ]
    }
   ],
   "source": [
    "# 0 값의 개수와 비율\n",
    "zcnt = 0\n",
    "total_cnt = len(raw_data.columns) * len(raw_data.index)\n",
    "for c in raw_data.columns:\n",
    "    zcnt += len(raw_data.loc[raw_data[c] == 0])\n",
    "\n",
    "print(zcnt, np.round(zcnt/total_cnt, 4))"
   ]
  },
  {
   "cell_type": "code",
   "execution_count": 9,
   "id": "d6af1476",
   "metadata": {},
   "outputs": [
    {
     "name": "stdout",
     "output_type": "stream",
     "text": [
      "3 0.0001\n"
     ]
    }
   ],
   "source": [
    "# null 값의 개수와 비율\n",
    "nullcnt = raw_data.isna().sum().sum()\n",
    "print(nullcnt, np.round(nullcnt / total_cnt, 4))"
   ]
  },
  {
   "cell_type": "code",
   "execution_count": 10,
   "id": "4fe842cc",
   "metadata": {},
   "outputs": [
    {
     "name": "stdout",
     "output_type": "stream",
     "text": [
      "12426 0.241\n"
     ]
    }
   ],
   "source": [
    "# 0이 아닌 값의 개수와 비율\n",
    "nzcnt = 0\n",
    "for c in raw_data.columns:\n",
    "    nzcnt += len(raw_data.loc[raw_data[c] != 0])\n",
    "\n",
    "print(nzcnt, np.round(nzcnt/total_cnt, 4))"
   ]
  },
  {
   "cell_type": "markdown",
   "id": "db5ce68b",
   "metadata": {},
   "source": [
    "#### 1-2> 데이터 수정 및 분할"
   ]
  },
  {
   "cell_type": "markdown",
   "id": "d3bc572e",
   "metadata": {},
   "source": [
    "* 데이터 인덱스 수정 (0_1 -> A0-1)\n",
    "* 컬럼 수정\n",
    "* sheet 분류"
   ]
  },
  {
   "cell_type": "code",
   "execution_count": 11,
   "id": "63acd5a0",
   "metadata": {},
   "outputs": [
    {
     "data": {
      "text/html": [
       "<div>\n",
       "<style scoped>\n",
       "    .dataframe tbody tr th:only-of-type {\n",
       "        vertical-align: middle;\n",
       "    }\n",
       "\n",
       "    .dataframe tbody tr th {\n",
       "        vertical-align: top;\n",
       "    }\n",
       "\n",
       "    .dataframe thead th {\n",
       "        text-align: right;\n",
       "    }\n",
       "</style>\n",
       "<table border=\"1\" class=\"dataframe\">\n",
       "  <thead>\n",
       "    <tr style=\"text-align: right;\">\n",
       "      <th>Compounds</th>\n",
       "      <th>Carbon disulfide</th>\n",
       "      <th>Methylsulfanylmethane (Dimethyl sulfide)</th>\n",
       "      <th>2-Methylheptane</th>\n",
       "      <th>Furan</th>\n",
       "      <th>Propan-2-one</th>\n",
       "      <th>4-Methyloctane</th>\n",
       "      <th>(E)-oct-2-ene</th>\n",
       "      <th>2-Methylfuran</th>\n",
       "      <th>Butan-2-one</th>\n",
       "      <th>Nonane</th>\n",
       "      <th>...</th>\n",
       "      <th>Undecan-4-ylbenzene (4-Phenylundecane)</th>\n",
       "      <th>Phenylmethanol</th>\n",
       "      <th>(1-hydroxy-2,4,4-trimethylpentan-3-yl) 2-methylpropanoate</th>\n",
       "      <th>Methylsulfonylmethane (Dimethyl sulfone)</th>\n",
       "      <th>Dodecan-3-ylbenzene (3-Phenyldodecane)</th>\n",
       "      <th>2-Phenylethanol</th>\n",
       "      <th>2-Phenylacetonitrile</th>\n",
       "      <th>1,4-Butanediol</th>\n",
       "      <th>Benzeneacetonitrile</th>\n",
       "      <th>Nonadecane</th>\n",
       "    </tr>\n",
       "  </thead>\n",
       "  <tbody>\n",
       "    <tr>\n",
       "      <th>A0-1</th>\n",
       "      <td>0.130670</td>\n",
       "      <td>0.0</td>\n",
       "      <td>0.000000</td>\n",
       "      <td>0.0</td>\n",
       "      <td>1.435842</td>\n",
       "      <td>0.517948</td>\n",
       "      <td>0.0</td>\n",
       "      <td>0.0</td>\n",
       "      <td>0.175037</td>\n",
       "      <td>0.0</td>\n",
       "      <td>...</td>\n",
       "      <td>0.0</td>\n",
       "      <td>0.0</td>\n",
       "      <td>0.0</td>\n",
       "      <td>0.324772</td>\n",
       "      <td>0.0</td>\n",
       "      <td>0.000000</td>\n",
       "      <td>0.03144</td>\n",
       "      <td>0.0</td>\n",
       "      <td>0.0</td>\n",
       "      <td>0.0</td>\n",
       "    </tr>\n",
       "    <tr>\n",
       "      <th>A0-2</th>\n",
       "      <td>0.167196</td>\n",
       "      <td>0.0</td>\n",
       "      <td>0.027512</td>\n",
       "      <td>0.0</td>\n",
       "      <td>0.952583</td>\n",
       "      <td>0.000000</td>\n",
       "      <td>0.0</td>\n",
       "      <td>0.0</td>\n",
       "      <td>0.332735</td>\n",
       "      <td>0.0</td>\n",
       "      <td>...</td>\n",
       "      <td>0.0</td>\n",
       "      <td>0.0</td>\n",
       "      <td>0.0</td>\n",
       "      <td>0.004501</td>\n",
       "      <td>0.0</td>\n",
       "      <td>0.005626</td>\n",
       "      <td>0.00000</td>\n",
       "      <td>0.0</td>\n",
       "      <td>0.0</td>\n",
       "      <td>0.0</td>\n",
       "    </tr>\n",
       "  </tbody>\n",
       "</table>\n",
       "<p>2 rows × 191 columns</p>\n",
       "</div>"
      ],
      "text/plain": [
       "Compounds  Carbon disulfide  Methylsulfanylmethane (Dimethyl sulfide)  \\\n",
       "A0-1               0.130670                                       0.0   \n",
       "A0-2               0.167196                                       0.0   \n",
       "\n",
       "Compounds  2-Methylheptane  Furan  Propan-2-one  4-Methyloctane  \\\n",
       "A0-1              0.000000    0.0      1.435842        0.517948   \n",
       "A0-2              0.027512    0.0      0.952583        0.000000   \n",
       "\n",
       "Compounds  (E)-oct-2-ene  2-Methylfuran  Butan-2-one  Nonane  ...  \\\n",
       "A0-1                 0.0            0.0     0.175037     0.0  ...   \n",
       "A0-2                 0.0            0.0     0.332735     0.0  ...   \n",
       "\n",
       "Compounds  Undecan-4-ylbenzene (4-Phenylundecane)  Phenylmethanol  \\\n",
       "A0-1                                          0.0             0.0   \n",
       "A0-2                                          0.0             0.0   \n",
       "\n",
       "Compounds  (1-hydroxy-2,4,4-trimethylpentan-3-yl) 2-methylpropanoate  \\\n",
       "A0-1                                                     0.0           \n",
       "A0-2                                                     0.0           \n",
       "\n",
       "Compounds  Methylsulfonylmethane (Dimethyl sulfone)  \\\n",
       "A0-1                                       0.324772   \n",
       "A0-2                                       0.004501   \n",
       "\n",
       "Compounds  Dodecan-3-ylbenzene (3-Phenyldodecane)  2-Phenylethanol  \\\n",
       "A0-1                                          0.0         0.000000   \n",
       "A0-2                                          0.0         0.005626   \n",
       "\n",
       "Compounds  2-Phenylacetonitrile  1,4-Butanediol  Benzeneacetonitrile  \\\n",
       "A0-1                    0.03144             0.0                  0.0   \n",
       "A0-2                    0.00000             0.0                  0.0   \n",
       "\n",
       "Compounds  Nonadecane  \n",
       "A0-1              0.0  \n",
       "A0-2              0.0  \n",
       "\n",
       "[2 rows x 191 columns]"
      ]
     },
     "execution_count": 11,
     "metadata": {},
     "output_type": "execute_result"
    }
   ],
   "source": [
    "raw_data.index = [('A' + str(x) + '-' + str(y)) for x in [0, 1, 3, 5, 7, 9, 11, 14, 18] for y in range(1, 31)]\n",
    "raw_data.columns = raw_data.columns.str.strip()\n",
    "raw_data.head(2)"
   ]
  },
  {
   "cell_type": "code",
   "execution_count": null,
   "id": "93eef392",
   "metadata": {},
   "outputs": [],
   "source": [
    "# raw_data.to_excel('./data/GC_Volatile_data.xlsx', sheet_name='RAW_DATA')"
   ]
  },
  {
   "cell_type": "code",
   "execution_count": 12,
   "id": "72a6419b",
   "metadata": {},
   "outputs": [
    {
     "data": {
      "text/html": [
       "<div>\n",
       "<style scoped>\n",
       "    .dataframe tbody tr th:only-of-type {\n",
       "        vertical-align: middle;\n",
       "    }\n",
       "\n",
       "    .dataframe tbody tr th {\n",
       "        vertical-align: top;\n",
       "    }\n",
       "\n",
       "    .dataframe thead th {\n",
       "        text-align: right;\n",
       "    }\n",
       "</style>\n",
       "<table border=\"1\" class=\"dataframe\">\n",
       "  <thead>\n",
       "    <tr style=\"text-align: right;\">\n",
       "      <th></th>\n",
       "      <th>Compounds class</th>\n",
       "      <th>Compounds</th>\n",
       "    </tr>\n",
       "  </thead>\n",
       "  <tbody>\n",
       "    <tr>\n",
       "      <th>0</th>\n",
       "      <td>S containing compounds</td>\n",
       "      <td>Carbon disulfide</td>\n",
       "    </tr>\n",
       "    <tr>\n",
       "      <th>1</th>\n",
       "      <td>S containing compounds</td>\n",
       "      <td>Methylsulfanylmethane (Dimethyl sulfide)</td>\n",
       "    </tr>\n",
       "  </tbody>\n",
       "</table>\n",
       "</div>"
      ],
      "text/plain": [
       "          Compounds class                                  Compounds\n",
       "0  S containing compounds                           Carbon disulfide\n",
       "1  S containing compounds  Methylsulfanylmethane (Dimethyl sulfide) "
      ]
     },
     "execution_count": 12,
     "metadata": {},
     "output_type": "execute_result"
    }
   ],
   "source": [
    "raw_sheet2 = pd.read_excel('./data/raw_data/(Metabolite)GC-Volatile_250529.xlsx', sheet_name='RAW_DATA (화합물분류)')\n",
    "raw_sheet2 = raw_sheet2.drop(columns=raw_sheet2.columns[2:], axis=1)\n",
    "raw_sheet2.head(2)"
   ]
  },
  {
   "cell_type": "code",
   "execution_count": 13,
   "id": "e7f68994",
   "metadata": {},
   "outputs": [
    {
     "data": {
      "text/html": [
       "<div>\n",
       "<style scoped>\n",
       "    .dataframe tbody tr th:only-of-type {\n",
       "        vertical-align: middle;\n",
       "    }\n",
       "\n",
       "    .dataframe tbody tr th {\n",
       "        vertical-align: top;\n",
       "    }\n",
       "\n",
       "    .dataframe thead th {\n",
       "        text-align: right;\n",
       "    }\n",
       "</style>\n",
       "<table border=\"1\" class=\"dataframe\">\n",
       "  <thead>\n",
       "    <tr style=\"text-align: right;\">\n",
       "      <th></th>\n",
       "      <th>Compounds</th>\n",
       "      <th>Class</th>\n",
       "    </tr>\n",
       "  </thead>\n",
       "  <tbody>\n",
       "    <tr>\n",
       "      <th>0</th>\n",
       "      <td>Carbon disulfide</td>\n",
       "      <td>S containing compounds</td>\n",
       "    </tr>\n",
       "    <tr>\n",
       "      <th>1</th>\n",
       "      <td>Methylsulfanylmethane (Dimethyl sulfide)</td>\n",
       "      <td>S containing compounds</td>\n",
       "    </tr>\n",
       "  </tbody>\n",
       "</table>\n",
       "</div>"
      ],
      "text/plain": [
       "                                  Compounds                   Class\n",
       "0                          Carbon disulfide  S containing compounds\n",
       "1  Methylsulfanylmethane (Dimethyl sulfide)  S containing compounds"
      ]
     },
     "execution_count": 13,
     "metadata": {},
     "output_type": "execute_result"
    }
   ],
   "source": [
    "raw_sheet2 = raw_sheet2[['Compounds', 'Compounds class']]\n",
    "raw_sheet2.columns = ['Compounds', 'Class']\n",
    "raw_sheet2['Compounds'] = raw_sheet2['Compounds'].str.strip()\n",
    "raw_sheet2.head(2)"
   ]
  },
  {
   "cell_type": "code",
   "execution_count": null,
   "id": "a0a1cba4",
   "metadata": {},
   "outputs": [],
   "source": [
    "# raw_sheet2.to_excel('./data/GC_Volatile_class.xlsx', sheet_name='RAW_DATA (class)',index=0)"
   ]
  },
  {
   "cell_type": "markdown",
   "id": "d96b03f6",
   "metadata": {},
   "source": [
    "#### 1-3> 일자별 분할"
   ]
  },
  {
   "cell_type": "code",
   "execution_count": 3,
   "id": "bfcb151b",
   "metadata": {},
   "outputs": [
    {
     "data": {
      "text/plain": [
       "A0-1       0\n",
       "A0-2       0\n",
       "A0-3       0\n",
       "A0-4       0\n",
       "A0-5       0\n",
       "          ..\n",
       "A18-26    18\n",
       "A18-27    18\n",
       "A18-28    18\n",
       "A18-29    18\n",
       "A18-30    18\n",
       "Name: days, Length: 270, dtype: int32"
      ]
     },
     "execution_count": 3,
     "metadata": {},
     "output_type": "execute_result"
    }
   ],
   "source": [
    "data['days'] = data.index.str.split('A').str[1]\n",
    "data['days'] = data['days'].str.split('-').str[0].astype(int)\n",
    "data['days']"
   ]
  },
  {
   "cell_type": "code",
   "execution_count": 15,
   "id": "a8901b5b",
   "metadata": {},
   "outputs": [
    {
     "data": {
      "text/plain": [
       "array([ 0,  1,  3,  5,  7,  9, 11, 14, 18])"
      ]
     },
     "execution_count": 15,
     "metadata": {},
     "output_type": "execute_result"
    }
   ],
   "source": [
    "data['days'].unique()"
   ]
  },
  {
   "cell_type": "code",
   "execution_count": 17,
   "id": "507535c5",
   "metadata": {},
   "outputs": [],
   "source": [
    "for i in data['days'].unique():\n",
    "    data_day = data.loc[data['days'] == i]\n",
    "    data_day = data_day.drop(columns='days', axis=1)\n",
    "    path = './data/GC_Volatile_day' + f\"{i:02d}\" + '.xlsx'\n",
    "    data_day.to_excel(path, sheet_name=f\"day{i:02d}\", index=0)"
   ]
  },
  {
   "cell_type": "code",
   "execution_count": 20,
   "id": "00d47b55",
   "metadata": {},
   "outputs": [
    {
     "data": {
      "text/html": [
       "<div>\n",
       "<style scoped>\n",
       "    .dataframe tbody tr th:only-of-type {\n",
       "        vertical-align: middle;\n",
       "    }\n",
       "\n",
       "    .dataframe tbody tr th {\n",
       "        vertical-align: top;\n",
       "    }\n",
       "\n",
       "    .dataframe thead th {\n",
       "        text-align: right;\n",
       "    }\n",
       "</style>\n",
       "<table border=\"1\" class=\"dataframe\">\n",
       "  <thead>\n",
       "    <tr style=\"text-align: right;\">\n",
       "      <th></th>\n",
       "      <th>Carbon disulfide</th>\n",
       "      <th>Methylsulfanylmethane (Dimethyl sulfide)</th>\n",
       "      <th>2-Methylheptane</th>\n",
       "      <th>Furan</th>\n",
       "      <th>Propan-2-one</th>\n",
       "      <th>4-Methyloctane</th>\n",
       "      <th>(E)-oct-2-ene</th>\n",
       "      <th>2-Methylfuran</th>\n",
       "      <th>Butan-2-one</th>\n",
       "      <th>Nonane</th>\n",
       "      <th>...</th>\n",
       "      <th>Undecan-4-ylbenzene (4-Phenylundecane)</th>\n",
       "      <th>Phenylmethanol</th>\n",
       "      <th>(1-hydroxy-2,4,4-trimethylpentan-3-yl) 2-methylpropanoate</th>\n",
       "      <th>Methylsulfonylmethane (Dimethyl sulfone)</th>\n",
       "      <th>Dodecan-3-ylbenzene (3-Phenyldodecane)</th>\n",
       "      <th>2-Phenylethanol</th>\n",
       "      <th>2-Phenylacetonitrile</th>\n",
       "      <th>1,4-Butanediol</th>\n",
       "      <th>Benzeneacetonitrile</th>\n",
       "      <th>Nonadecane</th>\n",
       "    </tr>\n",
       "  </thead>\n",
       "  <tbody>\n",
       "    <tr>\n",
       "      <th>0</th>\n",
       "      <td>0.0</td>\n",
       "      <td>0.059838</td>\n",
       "      <td>0.0</td>\n",
       "      <td>0</td>\n",
       "      <td>0.000000</td>\n",
       "      <td>0.000000</td>\n",
       "      <td>0.0</td>\n",
       "      <td>0</td>\n",
       "      <td>0.446364</td>\n",
       "      <td>0</td>\n",
       "      <td>...</td>\n",
       "      <td>0</td>\n",
       "      <td>0</td>\n",
       "      <td>0</td>\n",
       "      <td>0.042213</td>\n",
       "      <td>0</td>\n",
       "      <td>0.309898</td>\n",
       "      <td>0</td>\n",
       "      <td>0</td>\n",
       "      <td>0.0</td>\n",
       "      <td>0</td>\n",
       "    </tr>\n",
       "    <tr>\n",
       "      <th>1</th>\n",
       "      <td>0.0</td>\n",
       "      <td>0.242405</td>\n",
       "      <td>0.0</td>\n",
       "      <td>0</td>\n",
       "      <td>0.442002</td>\n",
       "      <td>0.905596</td>\n",
       "      <td>0.0</td>\n",
       "      <td>0</td>\n",
       "      <td>0.525117</td>\n",
       "      <td>0</td>\n",
       "      <td>...</td>\n",
       "      <td>0</td>\n",
       "      <td>0</td>\n",
       "      <td>0</td>\n",
       "      <td>0.034399</td>\n",
       "      <td>0</td>\n",
       "      <td>0.108116</td>\n",
       "      <td>0</td>\n",
       "      <td>0</td>\n",
       "      <td>0.0</td>\n",
       "      <td>0</td>\n",
       "    </tr>\n",
       "  </tbody>\n",
       "</table>\n",
       "<p>2 rows × 191 columns</p>\n",
       "</div>"
      ],
      "text/plain": [
       "   Carbon disulfide  Methylsulfanylmethane (Dimethyl sulfide)  \\\n",
       "0               0.0                                  0.059838   \n",
       "1               0.0                                  0.242405   \n",
       "\n",
       "   2-Methylheptane  Furan  Propan-2-one  4-Methyloctane  (E)-oct-2-ene  \\\n",
       "0              0.0      0      0.000000        0.000000            0.0   \n",
       "1              0.0      0      0.442002        0.905596            0.0   \n",
       "\n",
       "   2-Methylfuran  Butan-2-one  Nonane  ...  \\\n",
       "0              0     0.446364       0  ...   \n",
       "1              0     0.525117       0  ...   \n",
       "\n",
       "   Undecan-4-ylbenzene (4-Phenylundecane)  Phenylmethanol  \\\n",
       "0                                       0               0   \n",
       "1                                       0               0   \n",
       "\n",
       "   (1-hydroxy-2,4,4-trimethylpentan-3-yl) 2-methylpropanoate  \\\n",
       "0                                                  0           \n",
       "1                                                  0           \n",
       "\n",
       "   Methylsulfonylmethane (Dimethyl sulfone)  \\\n",
       "0                                  0.042213   \n",
       "1                                  0.034399   \n",
       "\n",
       "   Dodecan-3-ylbenzene (3-Phenyldodecane)  2-Phenylethanol  \\\n",
       "0                                       0         0.309898   \n",
       "1                                       0         0.108116   \n",
       "\n",
       "   2-Phenylacetonitrile  1,4-Butanediol  Benzeneacetonitrile  Nonadecane  \n",
       "0                     0               0                  0.0           0  \n",
       "1                     0               0                  0.0           0  \n",
       "\n",
       "[2 rows x 191 columns]"
      ]
     },
     "execution_count": 20,
     "metadata": {},
     "output_type": "execute_result"
    }
   ],
   "source": [
    "vol00 = pd.read_excel('./data/GC_Volatile_day00.xlsx')\n",
    "vol01 = pd.read_excel('./data/GC_Volatile_day01.xlsx')\n",
    "vol03 = pd.read_excel('./data/GC_Volatile_day03.xlsx')\n",
    "\n",
    "vol05 = pd.read_excel('./data/GC_Volatile_day05.xlsx')\n",
    "vol07 = pd.read_excel('./data/GC_Volatile_day07.xlsx')\n",
    "vol09 = pd.read_excel('./data/GC_Volatile_day09.xlsx')\n",
    "\n",
    "vol11 = pd.read_excel('./data/GC_Volatile_day11.xlsx')\n",
    "vol14 = pd.read_excel('./data/GC_Volatile_day14.xlsx')\n",
    "vol18 = pd.read_excel('./data/GC_Volatile_day18.xlsx')\n",
    "\n",
    "vol18.head(2)"
   ]
  },
  {
   "cell_type": "code",
   "execution_count": 26,
   "id": "5880c703",
   "metadata": {},
   "outputs": [],
   "source": [
    "from scipy.stats import f_oneway\n",
    "from statsmodels.formula.api import ols\n",
    "from statsmodels.stats.anova import anova_lm"
   ]
  },
  {
   "cell_type": "code",
   "execution_count": 27,
   "id": "a42bc5de",
   "metadata": {},
   "outputs": [
    {
     "data": {
      "text/html": [
       "<div>\n",
       "<style scoped>\n",
       "    .dataframe tbody tr th:only-of-type {\n",
       "        vertical-align: middle;\n",
       "    }\n",
       "\n",
       "    .dataframe tbody tr th {\n",
       "        vertical-align: top;\n",
       "    }\n",
       "\n",
       "    .dataframe thead th {\n",
       "        text-align: right;\n",
       "    }\n",
       "</style>\n",
       "<table border=\"1\" class=\"dataframe\">\n",
       "  <thead>\n",
       "    <tr style=\"text-align: right;\">\n",
       "      <th></th>\n",
       "      <th>Methyl</th>\n",
       "      <th>days</th>\n",
       "    </tr>\n",
       "  </thead>\n",
       "  <tbody>\n",
       "    <tr>\n",
       "      <th>A0-1</th>\n",
       "      <td>0.0</td>\n",
       "      <td>0</td>\n",
       "    </tr>\n",
       "    <tr>\n",
       "      <th>A0-2</th>\n",
       "      <td>0.0</td>\n",
       "      <td>0</td>\n",
       "    </tr>\n",
       "  </tbody>\n",
       "</table>\n",
       "</div>"
      ],
      "text/plain": [
       "      Methyl  days\n",
       "A0-1     0.0     0\n",
       "A0-2     0.0     0"
      ]
     },
     "execution_count": 27,
     "metadata": {},
     "output_type": "execute_result"
    }
   ],
   "source": [
    "anova1 = data[['3-Methylbutan-1-ol', 'days']]\n",
    "anova1.columns = ['Methyl', 'days']\n",
    "anova1.head(2)"
   ]
  },
  {
   "cell_type": "code",
   "execution_count": null,
   "id": "60d73fc3",
   "metadata": {},
   "outputs": [
    {
     "data": {
      "text/plain": [
       "days\n",
       "0     [0.0, 0.0, 0.0, 0.0, 0.0, 0.0, 0.0, 0.0, 0.0, ...\n",
       "1     [0.0, 0.0, 0.0, 0.0, 0.0, 0.0, 0.0, 0.0, 0.0, ...\n",
       "3     [0.0, 0.0, 0.0, 0.0, 0.0, 0.0, 0.060348146, 0....\n",
       "5     [0.0, 0.0, 0.0, 0.0, 0.0, 0.0, 0.0, 0.0, 0.0, ...\n",
       "7     [0.0, 0.0, 0.0, 0.0, 0.0, 0.018619532, 0.0, 0....\n",
       "9     [0.134831896, 0.143631984, 0.007450522, 0.0113...\n",
       "11    [5.980286176, 16.1260892, 0.616330194, 5.96112...\n",
       "14    [6.946721674, 6.542003421, 2.779050382, 1.8441...\n",
       "18    [6.090099166, 5.796483916, 3.570555808, 4.5594...\n",
       "Name: 3-Methylbutan-1-ol, dtype: object"
      ]
     },
     "execution_count": 33,
     "metadata": {},
     "output_type": "execute_result"
    }
   ],
   "source": [
    "grouped = anova1.groupby('days')['Methyl'].apply(list)\n",
    "grouped"
   ]
  },
  {
   "cell_type": "code",
   "execution_count": 34,
   "id": "3bf16411",
   "metadata": {},
   "outputs": [
    {
     "name": "stdout",
     "output_type": "stream",
     "text": [
      "f_stat:  62.952772136061434\n",
      "p_value:  1.3531844442140145e-56\n"
     ]
    }
   ],
   "source": [
    "f_stat, p_value = f_oneway(*grouped)\n",
    "print(\"f_stat: \", f_stat)\n",
    "print(\"p_value: \", p_value)"
   ]
  },
  {
   "cell_type": "code",
   "execution_count": 38,
   "id": "3a756370",
   "metadata": {},
   "outputs": [
    {
     "name": "stdout",
     "output_type": "stream",
     "text": [
      "             df       sum_sq     mean_sq          F        PR(>F)\n",
      "C(days)     8.0  1935.106392  241.888299  62.952772  1.353184e-56\n",
      "Residual  261.0  1002.860460    3.842377        NaN           NaN\n"
     ]
    }
   ],
   "source": [
    "model = ols(\"Methyl ~ C(days)\", data=anova1).fit()\n",
    "anova_table = anova_lm(model)\n",
    "\n",
    "print(anova_table)"
   ]
  },
  {
   "cell_type": "markdown",
   "id": "97dab1d3",
   "metadata": {},
   "source": [
    "#### 사후 검정\n",
    "\n",
    "ANOVA 검정은 3개 이상의 집단이 동일한지를 비교분석하는 통계 방법  \n",
    "하지만 검정을 통해 집단 간 차이의 유무만 확인 가능할 뿐, 어떤 집단간 차이가 있는지는 알 수 없다.  \n",
    "P-value > 0.5 : A = B = C  \n",
    "P-value < 0.5 : A!=B or B!=C or C!=A or A!=B!=C  \n",
    "\n",
    "* 사후 분석을 통해 각 집단별로 어떤 차이가 있는지 확인 가능  \n",
    "\n",
    "tukey : 비교 대상 표본 수가 동일한 경우 가장 많이 사용되는 사후검정 기법  \n",
    "\n",
    "* 대사체와 날짜간 사후 검정을 통해 일별로 대사체가 차이가 있는지 확인 가능"
   ]
  },
  {
   "cell_type": "code",
   "execution_count": null,
   "id": "509aabbb",
   "metadata": {},
   "outputs": [],
   "source": [
    "from statsmodels.sandbox.stats.multicomp import MultiComparison"
   ]
  },
  {
   "cell_type": "code",
   "execution_count": 80,
   "id": "ad7c68b8",
   "metadata": {},
   "outputs": [
    {
     "data": {
      "text/html": [
       "<div>\n",
       "<style scoped>\n",
       "    .dataframe tbody tr th:only-of-type {\n",
       "        vertical-align: middle;\n",
       "    }\n",
       "\n",
       "    .dataframe tbody tr th {\n",
       "        vertical-align: top;\n",
       "    }\n",
       "\n",
       "    .dataframe thead th {\n",
       "        text-align: right;\n",
       "    }\n",
       "</style>\n",
       "<table border=\"1\" class=\"dataframe\">\n",
       "  <thead>\n",
       "    <tr style=\"text-align: right;\">\n",
       "      <th></th>\n",
       "      <th>group1</th>\n",
       "      <th>group2</th>\n",
       "      <th>meandiff</th>\n",
       "      <th>p-adj</th>\n",
       "      <th>lower</th>\n",
       "      <th>upper</th>\n",
       "      <th>reject</th>\n",
       "    </tr>\n",
       "  </thead>\n",
       "  <tbody>\n",
       "    <tr>\n",
       "      <th>5</th>\n",
       "      <td>0</td>\n",
       "      <td>11</td>\n",
       "      <td>7.0538</td>\n",
       "      <td>0.0000</td>\n",
       "      <td>5.4706</td>\n",
       "      <td>8.6369</td>\n",
       "      <td>True</td>\n",
       "    </tr>\n",
       "    <tr>\n",
       "      <th>6</th>\n",
       "      <td>0</td>\n",
       "      <td>14</td>\n",
       "      <td>4.7921</td>\n",
       "      <td>0.0000</td>\n",
       "      <td>3.2089</td>\n",
       "      <td>6.3753</td>\n",
       "      <td>True</td>\n",
       "    </tr>\n",
       "    <tr>\n",
       "      <th>7</th>\n",
       "      <td>0</td>\n",
       "      <td>18</td>\n",
       "      <td>4.7733</td>\n",
       "      <td>0.0000</td>\n",
       "      <td>3.1901</td>\n",
       "      <td>6.3564</td>\n",
       "      <td>True</td>\n",
       "    </tr>\n",
       "    <tr>\n",
       "      <th>12</th>\n",
       "      <td>1</td>\n",
       "      <td>11</td>\n",
       "      <td>7.0538</td>\n",
       "      <td>0.0000</td>\n",
       "      <td>5.4706</td>\n",
       "      <td>8.6369</td>\n",
       "      <td>True</td>\n",
       "    </tr>\n",
       "    <tr>\n",
       "      <th>13</th>\n",
       "      <td>1</td>\n",
       "      <td>14</td>\n",
       "      <td>4.7921</td>\n",
       "      <td>0.0000</td>\n",
       "      <td>3.2089</td>\n",
       "      <td>6.3753</td>\n",
       "      <td>True</td>\n",
       "    </tr>\n",
       "    <tr>\n",
       "      <th>14</th>\n",
       "      <td>1</td>\n",
       "      <td>18</td>\n",
       "      <td>4.7733</td>\n",
       "      <td>0.0000</td>\n",
       "      <td>3.1901</td>\n",
       "      <td>6.3564</td>\n",
       "      <td>True</td>\n",
       "    </tr>\n",
       "    <tr>\n",
       "      <th>18</th>\n",
       "      <td>3</td>\n",
       "      <td>11</td>\n",
       "      <td>7.0421</td>\n",
       "      <td>0.0000</td>\n",
       "      <td>5.4589</td>\n",
       "      <td>8.6253</td>\n",
       "      <td>True</td>\n",
       "    </tr>\n",
       "    <tr>\n",
       "      <th>19</th>\n",
       "      <td>3</td>\n",
       "      <td>14</td>\n",
       "      <td>4.7804</td>\n",
       "      <td>0.0000</td>\n",
       "      <td>3.1973</td>\n",
       "      <td>6.3636</td>\n",
       "      <td>True</td>\n",
       "    </tr>\n",
       "    <tr>\n",
       "      <th>20</th>\n",
       "      <td>3</td>\n",
       "      <td>18</td>\n",
       "      <td>4.7616</td>\n",
       "      <td>0.0000</td>\n",
       "      <td>3.1784</td>\n",
       "      <td>6.3447</td>\n",
       "      <td>True</td>\n",
       "    </tr>\n",
       "    <tr>\n",
       "      <th>23</th>\n",
       "      <td>5</td>\n",
       "      <td>11</td>\n",
       "      <td>7.0538</td>\n",
       "      <td>0.0000</td>\n",
       "      <td>5.4706</td>\n",
       "      <td>8.6369</td>\n",
       "      <td>True</td>\n",
       "    </tr>\n",
       "    <tr>\n",
       "      <th>24</th>\n",
       "      <td>5</td>\n",
       "      <td>14</td>\n",
       "      <td>4.7921</td>\n",
       "      <td>0.0000</td>\n",
       "      <td>3.2089</td>\n",
       "      <td>6.3753</td>\n",
       "      <td>True</td>\n",
       "    </tr>\n",
       "    <tr>\n",
       "      <th>25</th>\n",
       "      <td>5</td>\n",
       "      <td>18</td>\n",
       "      <td>4.7733</td>\n",
       "      <td>0.0000</td>\n",
       "      <td>3.1901</td>\n",
       "      <td>6.3564</td>\n",
       "      <td>True</td>\n",
       "    </tr>\n",
       "    <tr>\n",
       "      <th>27</th>\n",
       "      <td>7</td>\n",
       "      <td>11</td>\n",
       "      <td>7.0507</td>\n",
       "      <td>0.0000</td>\n",
       "      <td>5.4675</td>\n",
       "      <td>8.6338</td>\n",
       "      <td>True</td>\n",
       "    </tr>\n",
       "    <tr>\n",
       "      <th>28</th>\n",
       "      <td>7</td>\n",
       "      <td>14</td>\n",
       "      <td>4.7890</td>\n",
       "      <td>0.0000</td>\n",
       "      <td>3.2059</td>\n",
       "      <td>6.3722</td>\n",
       "      <td>True</td>\n",
       "    </tr>\n",
       "    <tr>\n",
       "      <th>29</th>\n",
       "      <td>7</td>\n",
       "      <td>18</td>\n",
       "      <td>4.7702</td>\n",
       "      <td>0.0000</td>\n",
       "      <td>3.1870</td>\n",
       "      <td>6.3533</td>\n",
       "      <td>True</td>\n",
       "    </tr>\n",
       "    <tr>\n",
       "      <th>30</th>\n",
       "      <td>9</td>\n",
       "      <td>11</td>\n",
       "      <td>6.9829</td>\n",
       "      <td>0.0000</td>\n",
       "      <td>5.3997</td>\n",
       "      <td>8.5661</td>\n",
       "      <td>True</td>\n",
       "    </tr>\n",
       "    <tr>\n",
       "      <th>31</th>\n",
       "      <td>9</td>\n",
       "      <td>14</td>\n",
       "      <td>4.7212</td>\n",
       "      <td>0.0000</td>\n",
       "      <td>3.1381</td>\n",
       "      <td>6.3044</td>\n",
       "      <td>True</td>\n",
       "    </tr>\n",
       "    <tr>\n",
       "      <th>32</th>\n",
       "      <td>9</td>\n",
       "      <td>18</td>\n",
       "      <td>4.7024</td>\n",
       "      <td>0.0000</td>\n",
       "      <td>3.1192</td>\n",
       "      <td>6.2855</td>\n",
       "      <td>True</td>\n",
       "    </tr>\n",
       "    <tr>\n",
       "      <th>33</th>\n",
       "      <td>11</td>\n",
       "      <td>14</td>\n",
       "      <td>-2.2616</td>\n",
       "      <td>0.0004</td>\n",
       "      <td>-3.8448</td>\n",
       "      <td>-0.6785</td>\n",
       "      <td>True</td>\n",
       "    </tr>\n",
       "    <tr>\n",
       "      <th>34</th>\n",
       "      <td>11</td>\n",
       "      <td>18</td>\n",
       "      <td>-2.2805</td>\n",
       "      <td>0.0003</td>\n",
       "      <td>-3.8637</td>\n",
       "      <td>-0.6973</td>\n",
       "      <td>True</td>\n",
       "    </tr>\n",
       "  </tbody>\n",
       "</table>\n",
       "</div>"
      ],
      "text/plain": [
       "    group1  group2  meandiff   p-adj   lower   upper  reject\n",
       "5        0      11    7.0538  0.0000  5.4706  8.6369    True\n",
       "6        0      14    4.7921  0.0000  3.2089  6.3753    True\n",
       "7        0      18    4.7733  0.0000  3.1901  6.3564    True\n",
       "12       1      11    7.0538  0.0000  5.4706  8.6369    True\n",
       "13       1      14    4.7921  0.0000  3.2089  6.3753    True\n",
       "14       1      18    4.7733  0.0000  3.1901  6.3564    True\n",
       "18       3      11    7.0421  0.0000  5.4589  8.6253    True\n",
       "19       3      14    4.7804  0.0000  3.1973  6.3636    True\n",
       "20       3      18    4.7616  0.0000  3.1784  6.3447    True\n",
       "23       5      11    7.0538  0.0000  5.4706  8.6369    True\n",
       "24       5      14    4.7921  0.0000  3.2089  6.3753    True\n",
       "25       5      18    4.7733  0.0000  3.1901  6.3564    True\n",
       "27       7      11    7.0507  0.0000  5.4675  8.6338    True\n",
       "28       7      14    4.7890  0.0000  3.2059  6.3722    True\n",
       "29       7      18    4.7702  0.0000  3.1870  6.3533    True\n",
       "30       9      11    6.9829  0.0000  5.3997  8.5661    True\n",
       "31       9      14    4.7212  0.0000  3.1381  6.3044    True\n",
       "32       9      18    4.7024  0.0000  3.1192  6.2855    True\n",
       "33      11      14   -2.2616  0.0004 -3.8448 -0.6785    True\n",
       "34      11      18   -2.2805  0.0003 -3.8637 -0.6973    True"
      ]
     },
     "execution_count": 80,
     "metadata": {},
     "output_type": "execute_result"
    }
   ],
   "source": [
    "comp = MultiComparison(anova1['Methyl'], anova1['days'])\n",
    "result = comp.tukeyhsd()\n",
    "tukey_df = pd.DataFrame(data=result._results_table.data[1:], columns=result._results_table.data[0])\n",
    "tukey_df.loc[tukey_df['reject'] == True]"
   ]
  },
  {
   "cell_type": "code",
   "execution_count": 90,
   "id": "8828bcdf",
   "metadata": {},
   "outputs": [
    {
     "name": "stdout",
     "output_type": "stream",
     "text": [
      "0-11\t0-14\t0-18\t1-11\t1-14\t1-18\t\n",
      "3-11\t3-14\t3-18\t5-11\t5-14\t\n",
      "5-18\t7-11\t7-14\t7-18\t9-11\t\n",
      "9-14\t9-18\t11-14\t11-18\t\t\n"
     ]
    }
   ],
   "source": [
    "s = ''\n",
    "for idx, row in tukey_df.loc[tukey_df['reject'] == True].iterrows():\n",
    "    s += (str(row['group1']) + '-' + str(row['group2']) + \".\")\n",
    "\n",
    "s = s.split('.')\n",
    "for i in range(len(s)):\n",
    "    print(s[i], end='\\t')\n",
    "    if i > 0 and i % 5 == 0:\n",
    "        print()"
   ]
  },
  {
   "cell_type": "code",
   "execution_count": null,
   "id": "f7dd5ff4",
   "metadata": {},
   "outputs": [],
   "source": [
    "0-3     0-9     0-11    0-14    0-18\n",
    "1-3     1-9     1-11    1-14    1-18\n",
    "3-5     3-9     3-11    3-14    3-18\n",
    "5-9     5-11    5-14    5-18\n",
    "7-9     7-11    7-14    7-18\n",
    "9-11    9-14    9-18"
   ]
  },
  {
   "cell_type": "markdown",
   "id": "0725548d",
   "metadata": {},
   "source": [
    "### 3> "
   ]
  },
  {
   "cell_type": "code",
   "execution_count": null,
   "id": "92da1917",
   "metadata": {},
   "outputs": [],
   "source": [
    "df2_mean_std = []\n",
    "days = df2['days'].unique()\n",
    "for day in df2['day'].unique():\n",
    "    tempdf = pd.DataFrame()\n",
    "    for col in df2.columns:\n",
    "        if col == 'day':\n",
    "            continue\n",
    "        ser = df2.loc[df2['day'] == day, col]\n",
    "        ddf = pd.DataFrame({'mean': [ser.mean()], 'std': [ser.std()]}, index=[col])\n",
    "        tempdf = pd.concat([tempdf, ddf])\n",
    "\n",
    "    df2_mean_std.append(tempdf)\n",
    "\n",
    "display(df2_mean_std[0])\n",
    "display(df2_mean_std[8])"
   ]
  },
  {
   "cell_type": "code",
   "execution_count": null,
   "id": "8c77805a",
   "metadata": {},
   "outputs": [],
   "source": [
    "def VM_meanstd(target, df=df2_mean_std, days=days, draw_errorbar=True):\n",
    "    vm_df = pd.DataFrame()\n",
    "    for i in range(len(df)):\n",
    "        tdf = df[i].loc[[target]]\n",
    "        tdf.index = days[i:i+1]\n",
    "        vm_df = pd.concat([vm_df, tdf.iloc[0:1, :]])\n",
    "    \n",
    "    if draw_errorbar:\n",
    "        plt.errorbar(\n",
    "            vm_df.index, vm_df['mean'], yerr=vm_df['std'],\n",
    "            fmt='o', linestyle='-',\n",
    "            color='dodgerblue', ecolor='gray'\n",
    "        )\n",
    "        plt.title(\"Changes of \" + target + \"(Mean, Std)\")\n",
    "        plt.xlabel('days')\n",
    "        plt.ylabel('Mean')\n",
    "        plt.xticks(days)\n",
    "        # plt.yticks(np.arange(-0.05, 0.26, 0.05))\n",
    "        plt.grid(axis='y')\n",
    "        plt.show()\n",
    "\n",
    "    return vm_df"
   ]
  },
  {
   "cell_type": "code",
   "execution_count": null,
   "id": "2de655e5",
   "metadata": {},
   "outputs": [],
   "source": [
    "three_hydroxybutan_2_one_Acetoin_df = VM_meanstd('3-hydroxybutan-2-one (Acetoin)')"
   ]
  },
  {
   "cell_type": "code",
   "execution_count": null,
   "id": "1f7a1392",
   "metadata": {},
   "outputs": [],
   "source": [
    "def eda_single_numeric(var, df, describe=True):\n",
    "    if describe:\n",
    "        display(df[var].describe().to_frame().T)\n",
    "    \n",
    "    plt.subplot(2,1,1)\n",
    "    sns.histplot(df[var])\n",
    "    \n",
    "    plt.subplot(2,1,2)\n",
    "    sns.boxplot(x=var, data=df)\n",
    "    plt.grid()\n",
    "    plt.tight_layout()\n",
    "    plt.show()"
   ]
  },
  {
   "cell_type": "markdown",
   "id": "7826face",
   "metadata": {},
   "source": [
    "### PLS-DA"
   ]
  },
  {
   "cell_type": "code",
   "execution_count": 25,
   "id": "bb3aab83",
   "metadata": {},
   "outputs": [
    {
     "data": {
      "text/plain": [
       "270"
      ]
     },
     "execution_count": 25,
     "metadata": {},
     "output_type": "execute_result"
    }
   ],
   "source": [
    "data.shape[0]"
   ]
  },
  {
   "cell_type": "code",
   "execution_count": 28,
   "id": "8d9282fb",
   "metadata": {},
   "outputs": [
    {
     "name": "stdout",
     "output_type": "stream",
     "text": [
      "106\n",
      "['(E)-oct-2-ene', '2-Methylfuran', 'Nonane', '2,5-Dimethylfuran', 'Cyclopentanol']\n"
     ]
    }
   ],
   "source": [
    "tdata = data.copy() # 0이 90% 이상인 컬럼 제거\n",
    "tdata = tdata.replace(0, np.NaN)\n",
    "drop_cols = []\n",
    "for c in tdata.columns:\n",
    "    x = tdata[c].isna().sum()\n",
    "    zratio = x / data.shape[0] # 0 개수 / 270\n",
    "    \n",
    "    if zratio >= 0.9:\n",
    "        drop_cols.append(c)\n",
    "\n",
    "print(len(drop_cols))\n",
    "print(drop_cols[:5])"
   ]
  },
  {
   "cell_type": "code",
   "execution_count": 31,
   "id": "cffbbfad",
   "metadata": {},
   "outputs": [
    {
     "data": {
      "text/plain": [
       "(270, 86)"
      ]
     },
     "execution_count": 31,
     "metadata": {},
     "output_type": "execute_result"
    }
   ],
   "source": [
    "tdata2 = tdata.drop(columns=drop_cols, axis=1)\n",
    "tdata2 = tdata2.replace(np.NaN, 0)\n",
    "tdata2.shape"
   ]
  },
  {
   "cell_type": "code",
   "execution_count": 33,
   "id": "cada705d",
   "metadata": {},
   "outputs": [],
   "source": [
    "target = 'days'"
   ]
  },
  {
   "cell_type": "code",
   "execution_count": 61,
   "id": "0d74c6d9",
   "metadata": {},
   "outputs": [],
   "source": [
    "from sklearn.model_selection import train_test_split\n",
    "from sklearn.preprocessing import StandardScaler\n",
    "from sklearn.cross_decomposition import PLSRegression\n",
    "from sklearn.metrics import confusion_matrix, classification_report, accuracy_score"
   ]
  },
  {
   "cell_type": "code",
   "execution_count": 57,
   "id": "fbfd868d",
   "metadata": {},
   "outputs": [],
   "source": [
    "X = tdata2.drop(columns=target, axis=1)\n",
    "Y = tdata2.loc[:, target].astype(int)\n",
    "Y = pd.get_dummies(Y, drop_first=True, dtype=int)\n",
    "\n",
    "x_train, x_test, y_train, y_test = train_test_split(X, Y, test_size=0.3, random_state=42)\n",
    "\n",
    "scaler = StandardScaler()\n",
    "x_train = scaler.fit_transform(x_train)\n",
    "x_test = scaler.transform(x_test)\n",
    "\n",
    "def my_PLS_DA(X_train, X_test, Y_train, Y_test, n_components_=2):\n",
    "    pls = PLSRegression(n_components=n_components_)\n",
    "    pls.fit(X_train, Y_train)\n",
    "\n",
    "    y_pred = pls.predict(X_test)\n",
    "    y_pred_flatten = [x.argmax() for x in y_pred]\n",
    "\n",
    "    \n",
    "    return pls, y_pred_flatten\n",
    "\n",
    "pls_model, y_pred = my_PLS_DA(x_train, x_test, y_train, y_test)"
   ]
  },
  {
   "cell_type": "code",
   "execution_count": 63,
   "id": "f8a0cc01",
   "metadata": {},
   "outputs": [
    {
     "ename": "ValueError",
     "evalue": "Classification metrics can't handle a mix of multilabel-indicator and multiclass targets",
     "output_type": "error",
     "traceback": [
      "\u001b[1;31m---------------------------------------------------------------------------\u001b[0m",
      "\u001b[1;31mValueError\u001b[0m                                Traceback (most recent call last)",
      "Cell \u001b[1;32mIn[63], line 2\u001b[0m\n\u001b[0;32m      1\u001b[0m \u001b[38;5;66;03m# print(accuracy_score(y_test, y_pred))\u001b[39;00m\n\u001b[1;32m----> 2\u001b[0m cm \u001b[38;5;241m=\u001b[39m confusion_matrix(y_test, y_pred)\n",
      "File \u001b[1;32mc:\\ProgramData\\anaconda3\\Lib\\site-packages\\sklearn\\utils\\_param_validation.py:213\u001b[0m, in \u001b[0;36mvalidate_params.<locals>.decorator.<locals>.wrapper\u001b[1;34m(*args, **kwargs)\u001b[0m\n\u001b[0;32m    207\u001b[0m \u001b[38;5;28;01mtry\u001b[39;00m:\n\u001b[0;32m    208\u001b[0m     \u001b[38;5;28;01mwith\u001b[39;00m config_context(\n\u001b[0;32m    209\u001b[0m         skip_parameter_validation\u001b[38;5;241m=\u001b[39m(\n\u001b[0;32m    210\u001b[0m             prefer_skip_nested_validation \u001b[38;5;129;01mor\u001b[39;00m global_skip_validation\n\u001b[0;32m    211\u001b[0m         )\n\u001b[0;32m    212\u001b[0m     ):\n\u001b[1;32m--> 213\u001b[0m         \u001b[38;5;28;01mreturn\u001b[39;00m func(\u001b[38;5;241m*\u001b[39margs, \u001b[38;5;241m*\u001b[39m\u001b[38;5;241m*\u001b[39mkwargs)\n\u001b[0;32m    214\u001b[0m \u001b[38;5;28;01mexcept\u001b[39;00m InvalidParameterError \u001b[38;5;28;01mas\u001b[39;00m e:\n\u001b[0;32m    215\u001b[0m     \u001b[38;5;66;03m# When the function is just a wrapper around an estimator, we allow\u001b[39;00m\n\u001b[0;32m    216\u001b[0m     \u001b[38;5;66;03m# the function to delegate validation to the estimator, but we replace\u001b[39;00m\n\u001b[0;32m    217\u001b[0m     \u001b[38;5;66;03m# the name of the estimator by the name of the function in the error\u001b[39;00m\n\u001b[0;32m    218\u001b[0m     \u001b[38;5;66;03m# message to avoid confusion.\u001b[39;00m\n\u001b[0;32m    219\u001b[0m     msg \u001b[38;5;241m=\u001b[39m re\u001b[38;5;241m.\u001b[39msub(\n\u001b[0;32m    220\u001b[0m         \u001b[38;5;124mr\u001b[39m\u001b[38;5;124m\"\u001b[39m\u001b[38;5;124mparameter of \u001b[39m\u001b[38;5;124m\\\u001b[39m\u001b[38;5;124mw+ must be\u001b[39m\u001b[38;5;124m\"\u001b[39m,\n\u001b[0;32m    221\u001b[0m         \u001b[38;5;124mf\u001b[39m\u001b[38;5;124m\"\u001b[39m\u001b[38;5;124mparameter of \u001b[39m\u001b[38;5;132;01m{\u001b[39;00mfunc\u001b[38;5;241m.\u001b[39m\u001b[38;5;18m__qualname__\u001b[39m\u001b[38;5;132;01m}\u001b[39;00m\u001b[38;5;124m must be\u001b[39m\u001b[38;5;124m\"\u001b[39m,\n\u001b[0;32m    222\u001b[0m         \u001b[38;5;28mstr\u001b[39m(e),\n\u001b[0;32m    223\u001b[0m     )\n",
      "File \u001b[1;32mc:\\ProgramData\\anaconda3\\Lib\\site-packages\\sklearn\\metrics\\_classification.py:342\u001b[0m, in \u001b[0;36mconfusion_matrix\u001b[1;34m(y_true, y_pred, labels, sample_weight, normalize)\u001b[0m\n\u001b[0;32m    247\u001b[0m \u001b[38;5;129m@validate_params\u001b[39m(\n\u001b[0;32m    248\u001b[0m     {\n\u001b[0;32m    249\u001b[0m         \u001b[38;5;124m\"\u001b[39m\u001b[38;5;124my_true\u001b[39m\u001b[38;5;124m\"\u001b[39m: [\u001b[38;5;124m\"\u001b[39m\u001b[38;5;124marray-like\u001b[39m\u001b[38;5;124m\"\u001b[39m],\n\u001b[1;32m   (...)\u001b[0m\n\u001b[0;32m    258\u001b[0m     y_true, y_pred, \u001b[38;5;241m*\u001b[39m, labels\u001b[38;5;241m=\u001b[39m\u001b[38;5;28;01mNone\u001b[39;00m, sample_weight\u001b[38;5;241m=\u001b[39m\u001b[38;5;28;01mNone\u001b[39;00m, normalize\u001b[38;5;241m=\u001b[39m\u001b[38;5;28;01mNone\u001b[39;00m\n\u001b[0;32m    259\u001b[0m ):\n\u001b[0;32m    260\u001b[0m \u001b[38;5;250m    \u001b[39m\u001b[38;5;124;03m\"\"\"Compute confusion matrix to evaluate the accuracy of a classification.\u001b[39;00m\n\u001b[0;32m    261\u001b[0m \n\u001b[0;32m    262\u001b[0m \u001b[38;5;124;03m    By definition a confusion matrix :math:`C` is such that :math:`C_{i, j}`\u001b[39;00m\n\u001b[1;32m   (...)\u001b[0m\n\u001b[0;32m    340\u001b[0m \u001b[38;5;124;03m    (0, 2, 1, 1)\u001b[39;00m\n\u001b[0;32m    341\u001b[0m \u001b[38;5;124;03m    \"\"\"\u001b[39;00m\n\u001b[1;32m--> 342\u001b[0m     y_type, y_true, y_pred \u001b[38;5;241m=\u001b[39m _check_targets(y_true, y_pred)\n\u001b[0;32m    343\u001b[0m     \u001b[38;5;28;01mif\u001b[39;00m y_type \u001b[38;5;129;01mnot\u001b[39;00m \u001b[38;5;129;01min\u001b[39;00m (\u001b[38;5;124m\"\u001b[39m\u001b[38;5;124mbinary\u001b[39m\u001b[38;5;124m\"\u001b[39m, \u001b[38;5;124m\"\u001b[39m\u001b[38;5;124mmulticlass\u001b[39m\u001b[38;5;124m\"\u001b[39m):\n\u001b[0;32m    344\u001b[0m         \u001b[38;5;28;01mraise\u001b[39;00m \u001b[38;5;167;01mValueError\u001b[39;00m(\u001b[38;5;124m\"\u001b[39m\u001b[38;5;132;01m%s\u001b[39;00m\u001b[38;5;124m is not supported\u001b[39m\u001b[38;5;124m\"\u001b[39m \u001b[38;5;241m%\u001b[39m y_type)\n",
      "File \u001b[1;32mc:\\ProgramData\\anaconda3\\Lib\\site-packages\\sklearn\\metrics\\_classification.py:112\u001b[0m, in \u001b[0;36m_check_targets\u001b[1;34m(y_true, y_pred)\u001b[0m\n\u001b[0;32m    109\u001b[0m     y_type \u001b[38;5;241m=\u001b[39m {\u001b[38;5;124m\"\u001b[39m\u001b[38;5;124mmulticlass\u001b[39m\u001b[38;5;124m\"\u001b[39m}\n\u001b[0;32m    111\u001b[0m \u001b[38;5;28;01mif\u001b[39;00m \u001b[38;5;28mlen\u001b[39m(y_type) \u001b[38;5;241m>\u001b[39m \u001b[38;5;241m1\u001b[39m:\n\u001b[1;32m--> 112\u001b[0m     \u001b[38;5;28;01mraise\u001b[39;00m \u001b[38;5;167;01mValueError\u001b[39;00m(\n\u001b[0;32m    113\u001b[0m         \u001b[38;5;124m\"\u001b[39m\u001b[38;5;124mClassification metrics can\u001b[39m\u001b[38;5;124m'\u001b[39m\u001b[38;5;124mt handle a mix of \u001b[39m\u001b[38;5;132;01m{0}\u001b[39;00m\u001b[38;5;124m and \u001b[39m\u001b[38;5;132;01m{1}\u001b[39;00m\u001b[38;5;124m targets\u001b[39m\u001b[38;5;124m\"\u001b[39m\u001b[38;5;241m.\u001b[39mformat(\n\u001b[0;32m    114\u001b[0m             type_true, type_pred\n\u001b[0;32m    115\u001b[0m         )\n\u001b[0;32m    116\u001b[0m     )\n\u001b[0;32m    118\u001b[0m \u001b[38;5;66;03m# We can't have more than one value on y_type => The set is no more needed\u001b[39;00m\n\u001b[0;32m    119\u001b[0m y_type \u001b[38;5;241m=\u001b[39m y_type\u001b[38;5;241m.\u001b[39mpop()\n",
      "\u001b[1;31mValueError\u001b[0m: Classification metrics can't handle a mix of multilabel-indicator and multiclass targets"
     ]
    }
   ],
   "source": [
    "# print(accuracy_score(y_test, y_pred))\n",
    "cm = confusion_matrix(y_test, y_pred)\n",
    "# print(classification_report(y_test, y_pred))"
   ]
  },
  {
   "cell_type": "code",
   "execution_count": null,
   "id": "d13dfe76",
   "metadata": {},
   "outputs": [],
   "source": []
  }
 ],
 "metadata": {
  "kernelspec": {
   "display_name": "base",
   "language": "python",
   "name": "python3"
  },
  "language_info": {
   "codemirror_mode": {
    "name": "ipython",
    "version": 3
   },
   "file_extension": ".py",
   "mimetype": "text/x-python",
   "name": "python",
   "nbconvert_exporter": "python",
   "pygments_lexer": "ipython3",
   "version": "3.12.7"
  }
 },
 "nbformat": 4,
 "nbformat_minor": 5
}
